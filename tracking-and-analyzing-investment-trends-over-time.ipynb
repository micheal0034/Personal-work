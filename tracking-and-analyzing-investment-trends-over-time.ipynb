{
 "cells": [
  {
   "cell_type": "markdown",
   "metadata": {
    "papermill": {
     "duration": 0.052397,
     "end_time": "2020-11-04T03:37:41.938945",
     "exception": false,
     "start_time": "2020-11-04T03:37:41.886548",
     "status": "completed"
    },
    "tags": []
   },
   "source": [
    "**STARTUP INVESTMENT**\n",
    "*Venture deals, organizations, people and exits*\n",
    "\n",
    "**PROBLEM DEFINITION**\n",
    "> Tracking and analyzing investment trends over time\n",
    "\n",
    "**DATA**\n",
    "> This data is downloaded from kaggle notebook with the url\n",
    "  https://www.kaggle.com/justinas/startup-investments\n",
    "  \n",
    "**CONTENT**\n",
    "> This diverse dataset contains information about the startup ecosystem: organizations, individuals, company news, funding rounds, acquisitions, and IPOs.\n",
    "\n",
    "> There are 11 tables that can be joined using unique IDs (schema to follow). More information about the individual data variables can be found on the Crunchabse Data website (under the API Entities Types section).\n",
    "\n",
    "> No extensive data quality check have been performed yet. The information is available up to December 2013.\n",
    "\n",
    "> While Kaggle contains other datasets focused on startup investments, to the best of my knowledge, this dataset has not yet been published on the platform and is unique.\n",
    "\n",
    "**AKNOWLEDGEMENT**\n",
    "> This Crunchbase 2013 Snapshot © 2013 dataset is fully attributed to Crunchbase.\n",
    "\n",
    "**EVALUATION**\n",
    "> Time Series would be used to focast\n",
    "\n",
    "\n",
    "**INSPIRATIONS**\n",
    "> There are multiple avenues for exploration:\n",
    "EDA of the startup ecosystem.\n",
    "Tracking and analyzing investment trends over time\n",
    "Clustering VC funds based on their existing investments.\n",
    "Predicting which startup will proceed to raise further rounds / will get acquired / will file for an IPO.\n",
    "Mapping the network of individuals involved in the startup ecosystem."
   ]
  },
  {
   "cell_type": "code",
   "execution_count": 1,
   "metadata": {
    "_cell_guid": "79c7e3d0-c299-4dcb-8224-4455121ee9b0",
    "_uuid": "d629ff2d2480ee46fbb7e2d37f6b5fab8052498a",
    "execution": {
     "iopub.execute_input": "2020-11-04T03:37:42.046388Z",
     "iopub.status.busy": "2020-11-04T03:37:42.045524Z",
     "iopub.status.idle": "2020-11-04T03:37:42.048500Z",
     "shell.execute_reply": "2020-11-04T03:37:42.047988Z"
    },
    "papermill": {
     "duration": 0.058181,
     "end_time": "2020-11-04T03:37:42.048610",
     "exception": false,
     "start_time": "2020-11-04T03:37:41.990429",
     "status": "completed"
    },
    "tags": []
   },
   "outputs": [],
   "source": [
    "# Importing Libraries for Loading Dataset\n",
    "import numpy as np\n",
    "import pandas as pd"
   ]
  },
  {
   "cell_type": "code",
   "execution_count": 2,
   "metadata": {
    "execution": {
     "iopub.execute_input": "2020-11-04T03:37:42.155271Z",
     "iopub.status.busy": "2020-11-04T03:37:42.154623Z",
     "iopub.status.idle": "2020-11-04T03:37:42.916552Z",
     "shell.execute_reply": "2020-11-04T03:37:42.915504Z"
    },
    "papermill": {
     "duration": 0.817069,
     "end_time": "2020-11-04T03:37:42.916677",
     "exception": false,
     "start_time": "2020-11-04T03:37:42.099608",
     "status": "completed"
    },
    "tags": []
   },
   "outputs": [],
   "source": [
    "# Importing required libraries for data visualisation\n",
    "import matplotlib.pyplot as plt\n",
    "import seaborn as sns\n",
    "from wordcloud import WordCloud\n",
    "from io import StringIO\n"
   ]
  },
  {
   "cell_type": "code",
   "execution_count": 3,
   "metadata": {
    "execution": {
     "iopub.execute_input": "2020-11-04T03:37:43.027667Z",
     "iopub.status.busy": "2020-11-04T03:37:43.026943Z",
     "iopub.status.idle": "2020-11-04T03:37:51.167598Z",
     "shell.execute_reply": "2020-11-04T03:37:51.168111Z"
    },
    "papermill": {
     "duration": 8.19998,
     "end_time": "2020-11-04T03:37:51.168261",
     "exception": false,
     "start_time": "2020-11-04T03:37:42.968281",
     "status": "completed"
    },
    "tags": []
   },
   "outputs": [
    {
     "data": {
      "text/html": [
       "<div>\n",
       "<style scoped>\n",
       "    .dataframe tbody tr th:only-of-type {\n",
       "        vertical-align: middle;\n",
       "    }\n",
       "\n",
       "    .dataframe tbody tr th {\n",
       "        vertical-align: top;\n",
       "    }\n",
       "\n",
       "    .dataframe thead th {\n",
       "        text-align: right;\n",
       "    }\n",
       "</style>\n",
       "<table border=\"1\" class=\"dataframe\">\n",
       "  <thead>\n",
       "    <tr style=\"text-align: right;\">\n",
       "      <th></th>\n",
       "      <th>id</th>\n",
       "      <th>entity_type</th>\n",
       "      <th>entity_id</th>\n",
       "      <th>parent_id</th>\n",
       "      <th>name</th>\n",
       "      <th>normalized_name</th>\n",
       "      <th>permalink</th>\n",
       "      <th>category_code</th>\n",
       "      <th>status</th>\n",
       "      <th>founded_at</th>\n",
       "      <th>...</th>\n",
       "      <th>last_funding_at</th>\n",
       "      <th>funding_rounds</th>\n",
       "      <th>funding_total_usd</th>\n",
       "      <th>first_milestone_at</th>\n",
       "      <th>last_milestone_at</th>\n",
       "      <th>milestones</th>\n",
       "      <th>relationships</th>\n",
       "      <th>created_by</th>\n",
       "      <th>created_at</th>\n",
       "      <th>updated_at</th>\n",
       "    </tr>\n",
       "  </thead>\n",
       "  <tbody>\n",
       "    <tr>\n",
       "      <th>0</th>\n",
       "      <td>c:1</td>\n",
       "      <td>Company</td>\n",
       "      <td>1</td>\n",
       "      <td>NaN</td>\n",
       "      <td>Wetpaint</td>\n",
       "      <td>wetpaint</td>\n",
       "      <td>/company/wetpaint</td>\n",
       "      <td>web</td>\n",
       "      <td>operating</td>\n",
       "      <td>2005-10-17</td>\n",
       "      <td>...</td>\n",
       "      <td>2008-05-19</td>\n",
       "      <td>3</td>\n",
       "      <td>39750000.0</td>\n",
       "      <td>2010-09-05</td>\n",
       "      <td>2013-09-18</td>\n",
       "      <td>5</td>\n",
       "      <td>17</td>\n",
       "      <td>initial-importer</td>\n",
       "      <td>2007-05-25 06:51:27</td>\n",
       "      <td>2013-04-13 03:29:00</td>\n",
       "    </tr>\n",
       "    <tr>\n",
       "      <th>1</th>\n",
       "      <td>c:10</td>\n",
       "      <td>Company</td>\n",
       "      <td>10</td>\n",
       "      <td>NaN</td>\n",
       "      <td>Flektor</td>\n",
       "      <td>flektor</td>\n",
       "      <td>/company/flektor</td>\n",
       "      <td>games_video</td>\n",
       "      <td>acquired</td>\n",
       "      <td>NaN</td>\n",
       "      <td>...</td>\n",
       "      <td>NaN</td>\n",
       "      <td>0</td>\n",
       "      <td>0.0</td>\n",
       "      <td>NaN</td>\n",
       "      <td>NaN</td>\n",
       "      <td>0</td>\n",
       "      <td>6</td>\n",
       "      <td>initial-importer</td>\n",
       "      <td>2007-05-31 21:11:51</td>\n",
       "      <td>2008-05-23 23:23:14</td>\n",
       "    </tr>\n",
       "    <tr>\n",
       "      <th>2</th>\n",
       "      <td>c:100</td>\n",
       "      <td>Company</td>\n",
       "      <td>100</td>\n",
       "      <td>NaN</td>\n",
       "      <td>There</td>\n",
       "      <td>there</td>\n",
       "      <td>/company/there</td>\n",
       "      <td>games_video</td>\n",
       "      <td>acquired</td>\n",
       "      <td>NaN</td>\n",
       "      <td>...</td>\n",
       "      <td>NaN</td>\n",
       "      <td>0</td>\n",
       "      <td>0.0</td>\n",
       "      <td>2003-02-01</td>\n",
       "      <td>2011-09-23</td>\n",
       "      <td>4</td>\n",
       "      <td>12</td>\n",
       "      <td>initial-importer</td>\n",
       "      <td>2007-08-06 23:52:45</td>\n",
       "      <td>2013-11-04 02:09:48</td>\n",
       "    </tr>\n",
       "    <tr>\n",
       "      <th>3</th>\n",
       "      <td>c:10000</td>\n",
       "      <td>Company</td>\n",
       "      <td>10000</td>\n",
       "      <td>NaN</td>\n",
       "      <td>MYWEBBO</td>\n",
       "      <td>mywebbo</td>\n",
       "      <td>/company/mywebbo</td>\n",
       "      <td>network_hosting</td>\n",
       "      <td>operating</td>\n",
       "      <td>2008-07-26</td>\n",
       "      <td>...</td>\n",
       "      <td>NaN</td>\n",
       "      <td>0</td>\n",
       "      <td>0.0</td>\n",
       "      <td>NaN</td>\n",
       "      <td>NaN</td>\n",
       "      <td>0</td>\n",
       "      <td>0</td>\n",
       "      <td>NaN</td>\n",
       "      <td>2008-08-24 16:51:57</td>\n",
       "      <td>2008-09-06 14:19:18</td>\n",
       "    </tr>\n",
       "    <tr>\n",
       "      <th>4</th>\n",
       "      <td>c:10001</td>\n",
       "      <td>Company</td>\n",
       "      <td>10001</td>\n",
       "      <td>NaN</td>\n",
       "      <td>THE Movie Streamer</td>\n",
       "      <td>the movie streamer</td>\n",
       "      <td>/company/the-movie-streamer</td>\n",
       "      <td>games_video</td>\n",
       "      <td>operating</td>\n",
       "      <td>2008-07-26</td>\n",
       "      <td>...</td>\n",
       "      <td>NaN</td>\n",
       "      <td>0</td>\n",
       "      <td>0.0</td>\n",
       "      <td>NaN</td>\n",
       "      <td>NaN</td>\n",
       "      <td>0</td>\n",
       "      <td>0</td>\n",
       "      <td>NaN</td>\n",
       "      <td>2008-08-24 17:10:34</td>\n",
       "      <td>2008-09-06 14:19:18</td>\n",
       "    </tr>\n",
       "  </tbody>\n",
       "</table>\n",
       "<p>5 rows × 40 columns</p>\n",
       "</div>"
      ],
      "text/plain": [
       "        id entity_type  entity_id parent_id                name  \\\n",
       "0      c:1     Company          1       NaN            Wetpaint   \n",
       "1     c:10     Company         10       NaN             Flektor   \n",
       "2    c:100     Company        100       NaN               There   \n",
       "3  c:10000     Company      10000       NaN             MYWEBBO   \n",
       "4  c:10001     Company      10001       NaN  THE Movie Streamer   \n",
       "\n",
       "      normalized_name                    permalink    category_code  \\\n",
       "0            wetpaint            /company/wetpaint              web   \n",
       "1             flektor             /company/flektor      games_video   \n",
       "2               there               /company/there      games_video   \n",
       "3             mywebbo             /company/mywebbo  network_hosting   \n",
       "4  the movie streamer  /company/the-movie-streamer      games_video   \n",
       "\n",
       "      status  founded_at  ... last_funding_at funding_rounds  \\\n",
       "0  operating  2005-10-17  ...      2008-05-19              3   \n",
       "1   acquired         NaN  ...             NaN              0   \n",
       "2   acquired         NaN  ...             NaN              0   \n",
       "3  operating  2008-07-26  ...             NaN              0   \n",
       "4  operating  2008-07-26  ...             NaN              0   \n",
       "\n",
       "  funding_total_usd first_milestone_at last_milestone_at  milestones  \\\n",
       "0        39750000.0         2010-09-05        2013-09-18           5   \n",
       "1               0.0                NaN               NaN           0   \n",
       "2               0.0         2003-02-01        2011-09-23           4   \n",
       "3               0.0                NaN               NaN           0   \n",
       "4               0.0                NaN               NaN           0   \n",
       "\n",
       "   relationships        created_by           created_at           updated_at  \n",
       "0             17  initial-importer  2007-05-25 06:51:27  2013-04-13 03:29:00  \n",
       "1              6  initial-importer  2007-05-31 21:11:51  2008-05-23 23:23:14  \n",
       "2             12  initial-importer  2007-08-06 23:52:45  2013-11-04 02:09:48  \n",
       "3              0               NaN  2008-08-24 16:51:57  2008-09-06 14:19:18  \n",
       "4              0               NaN  2008-08-24 17:10:34  2008-09-06 14:19:18  \n",
       "\n",
       "[5 rows x 40 columns]"
      ]
     },
     "execution_count": 3,
     "metadata": {},
     "output_type": "execute_result"
    }
   ],
   "source": [
    "objects = pd.read_csv(\"../input/startup-investments/objects.csv\", low_memory=False)\n",
    "objects.head()"
   ]
  },
  {
   "cell_type": "code",
   "execution_count": 4,
   "metadata": {
    "execution": {
     "iopub.execute_input": "2020-11-04T03:37:51.283922Z",
     "iopub.status.busy": "2020-11-04T03:37:51.283069Z",
     "iopub.status.idle": "2020-11-04T03:37:51.287437Z",
     "shell.execute_reply": "2020-11-04T03:37:51.288032Z"
    },
    "papermill": {
     "duration": 0.065148,
     "end_time": "2020-11-04T03:37:51.288149",
     "exception": false,
     "start_time": "2020-11-04T03:37:51.223001",
     "status": "completed"
    },
    "tags": []
   },
   "outputs": [
    {
     "data": {
      "text/plain": [
       "id                      object\n",
       "entity_type             object\n",
       "entity_id                int64\n",
       "parent_id               object\n",
       "name                    object\n",
       "normalized_name         object\n",
       "permalink               object\n",
       "category_code           object\n",
       "status                  object\n",
       "founded_at              object\n",
       "closed_at               object\n",
       "domain                  object\n",
       "homepage_url            object\n",
       "twitter_username        object\n",
       "logo_url                object\n",
       "logo_width               int64\n",
       "logo_height              int64\n",
       "short_description       object\n",
       "description             object\n",
       "overview                object\n",
       "tag_list                object\n",
       "country_code            object\n",
       "state_code              object\n",
       "city                    object\n",
       "region                  object\n",
       "first_investment_at     object\n",
       "last_investment_at      object\n",
       "investment_rounds        int64\n",
       "invested_companies       int64\n",
       "first_funding_at        object\n",
       "last_funding_at         object\n",
       "funding_rounds           int64\n",
       "funding_total_usd      float64\n",
       "first_milestone_at      object\n",
       "last_milestone_at       object\n",
       "milestones               int64\n",
       "relationships            int64\n",
       "created_by              object\n",
       "created_at              object\n",
       "updated_at              object\n",
       "dtype: object"
      ]
     },
     "execution_count": 4,
     "metadata": {},
     "output_type": "execute_result"
    }
   ],
   "source": [
    "objects.dtypes"
   ]
  },
  {
   "cell_type": "code",
   "execution_count": 5,
   "metadata": {
    "execution": {
     "iopub.execute_input": "2020-11-04T03:37:51.502723Z",
     "iopub.status.busy": "2020-11-04T03:37:51.499112Z",
     "iopub.status.idle": "2020-11-04T03:37:51.505622Z",
     "shell.execute_reply": "2020-11-04T03:37:51.506123Z"
    },
    "papermill": {
     "duration": 0.161984,
     "end_time": "2020-11-04T03:37:51.506256",
     "exception": false,
     "start_time": "2020-11-04T03:37:51.344272",
     "status": "completed"
    },
    "tags": []
   },
   "outputs": [
    {
     "data": {
      "text/plain": [
       "Person          226708\n",
       "Company         196553\n",
       "Product          27738\n",
       "FinancialOrg     11652\n",
       "Name: entity_type, dtype: int64"
      ]
     },
     "execution_count": 5,
     "metadata": {},
     "output_type": "execute_result"
    }
   ],
   "source": [
    "objects['entity_type'].value_counts()"
   ]
  },
  {
   "cell_type": "code",
   "execution_count": 6,
   "metadata": {
    "execution": {
     "iopub.execute_input": "2020-11-04T03:37:51.721682Z",
     "iopub.status.busy": "2020-11-04T03:37:51.718829Z",
     "iopub.status.idle": "2020-11-04T03:37:51.727506Z",
     "shell.execute_reply": "2020-11-04T03:37:51.726982Z"
    },
    "papermill": {
     "duration": 0.16493,
     "end_time": "2020-11-04T03:37:51.727617",
     "exception": false,
     "start_time": "2020-11-04T03:37:51.562687",
     "status": "completed"
    },
    "tags": []
   },
   "outputs": [
    {
     "data": {
      "text/plain": [
       "operating      443663\n",
       "acquired         9394\n",
       "live             4349\n",
       "closed           2773\n",
       "ipo              1134\n",
       "beta              780\n",
       "development       226\n",
       "private           219\n",
       "alpha             113\n",
       "Name: status, dtype: int64"
      ]
     },
     "execution_count": 6,
     "metadata": {},
     "output_type": "execute_result"
    }
   ],
   "source": [
    "objects['status'].value_counts()"
   ]
  },
  {
   "cell_type": "code",
   "execution_count": 7,
   "metadata": {
    "execution": {
     "iopub.execute_input": "2020-11-04T03:37:51.868815Z",
     "iopub.status.busy": "2020-11-04T03:37:51.867929Z",
     "iopub.status.idle": "2020-11-04T03:37:51.873544Z",
     "shell.execute_reply": "2020-11-04T03:37:51.874028Z"
    },
    "papermill": {
     "duration": 0.090549,
     "end_time": "2020-11-04T03:37:51.874184",
     "exception": false,
     "start_time": "2020-11-04T03:37:51.783635",
     "status": "completed"
    },
    "tags": []
   },
   "outputs": [
    {
     "data": {
      "text/html": [
       "<div>\n",
       "<style scoped>\n",
       "    .dataframe tbody tr th:only-of-type {\n",
       "        vertical-align: middle;\n",
       "    }\n",
       "\n",
       "    .dataframe tbody tr th {\n",
       "        vertical-align: top;\n",
       "    }\n",
       "\n",
       "    .dataframe thead th {\n",
       "        text-align: right;\n",
       "    }\n",
       "</style>\n",
       "<table border=\"1\" class=\"dataframe\">\n",
       "  <thead>\n",
       "    <tr style=\"text-align: right;\">\n",
       "      <th></th>\n",
       "      <th>funded_object_id</th>\n",
       "      <th>entity_type</th>\n",
       "      <th>entity_id</th>\n",
       "      <th>parent_id</th>\n",
       "      <th>name</th>\n",
       "      <th>normalized_name</th>\n",
       "      <th>permalink</th>\n",
       "      <th>category_code</th>\n",
       "      <th>status</th>\n",
       "      <th>founded_at</th>\n",
       "      <th>...</th>\n",
       "      <th>last_funding_at</th>\n",
       "      <th>funding_rounds</th>\n",
       "      <th>funding_total_usd</th>\n",
       "      <th>first_milestone_at</th>\n",
       "      <th>last_milestone_at</th>\n",
       "      <th>milestones</th>\n",
       "      <th>relationships</th>\n",
       "      <th>created_by</th>\n",
       "      <th>created_at</th>\n",
       "      <th>updated_at</th>\n",
       "    </tr>\n",
       "  </thead>\n",
       "  <tbody>\n",
       "    <tr>\n",
       "      <th>0</th>\n",
       "      <td>c:1</td>\n",
       "      <td>Company</td>\n",
       "      <td>1</td>\n",
       "      <td>NaN</td>\n",
       "      <td>Wetpaint</td>\n",
       "      <td>wetpaint</td>\n",
       "      <td>/company/wetpaint</td>\n",
       "      <td>web</td>\n",
       "      <td>operating</td>\n",
       "      <td>2005-10-17</td>\n",
       "      <td>...</td>\n",
       "      <td>2008-05-19</td>\n",
       "      <td>3</td>\n",
       "      <td>39750000.0</td>\n",
       "      <td>2010-09-05</td>\n",
       "      <td>2013-09-18</td>\n",
       "      <td>5</td>\n",
       "      <td>17</td>\n",
       "      <td>initial-importer</td>\n",
       "      <td>2007-05-25 06:51:27</td>\n",
       "      <td>2013-04-13 03:29:00</td>\n",
       "    </tr>\n",
       "    <tr>\n",
       "      <th>1</th>\n",
       "      <td>c:10</td>\n",
       "      <td>Company</td>\n",
       "      <td>10</td>\n",
       "      <td>NaN</td>\n",
       "      <td>Flektor</td>\n",
       "      <td>flektor</td>\n",
       "      <td>/company/flektor</td>\n",
       "      <td>games_video</td>\n",
       "      <td>acquired</td>\n",
       "      <td>NaN</td>\n",
       "      <td>...</td>\n",
       "      <td>NaN</td>\n",
       "      <td>0</td>\n",
       "      <td>0.0</td>\n",
       "      <td>NaN</td>\n",
       "      <td>NaN</td>\n",
       "      <td>0</td>\n",
       "      <td>6</td>\n",
       "      <td>initial-importer</td>\n",
       "      <td>2007-05-31 21:11:51</td>\n",
       "      <td>2008-05-23 23:23:14</td>\n",
       "    </tr>\n",
       "    <tr>\n",
       "      <th>2</th>\n",
       "      <td>c:100</td>\n",
       "      <td>Company</td>\n",
       "      <td>100</td>\n",
       "      <td>NaN</td>\n",
       "      <td>There</td>\n",
       "      <td>there</td>\n",
       "      <td>/company/there</td>\n",
       "      <td>games_video</td>\n",
       "      <td>acquired</td>\n",
       "      <td>NaN</td>\n",
       "      <td>...</td>\n",
       "      <td>NaN</td>\n",
       "      <td>0</td>\n",
       "      <td>0.0</td>\n",
       "      <td>2003-02-01</td>\n",
       "      <td>2011-09-23</td>\n",
       "      <td>4</td>\n",
       "      <td>12</td>\n",
       "      <td>initial-importer</td>\n",
       "      <td>2007-08-06 23:52:45</td>\n",
       "      <td>2013-11-04 02:09:48</td>\n",
       "    </tr>\n",
       "    <tr>\n",
       "      <th>3</th>\n",
       "      <td>c:10000</td>\n",
       "      <td>Company</td>\n",
       "      <td>10000</td>\n",
       "      <td>NaN</td>\n",
       "      <td>MYWEBBO</td>\n",
       "      <td>mywebbo</td>\n",
       "      <td>/company/mywebbo</td>\n",
       "      <td>network_hosting</td>\n",
       "      <td>operating</td>\n",
       "      <td>2008-07-26</td>\n",
       "      <td>...</td>\n",
       "      <td>NaN</td>\n",
       "      <td>0</td>\n",
       "      <td>0.0</td>\n",
       "      <td>NaN</td>\n",
       "      <td>NaN</td>\n",
       "      <td>0</td>\n",
       "      <td>0</td>\n",
       "      <td>NaN</td>\n",
       "      <td>2008-08-24 16:51:57</td>\n",
       "      <td>2008-09-06 14:19:18</td>\n",
       "    </tr>\n",
       "    <tr>\n",
       "      <th>4</th>\n",
       "      <td>c:10001</td>\n",
       "      <td>Company</td>\n",
       "      <td>10001</td>\n",
       "      <td>NaN</td>\n",
       "      <td>THE Movie Streamer</td>\n",
       "      <td>the movie streamer</td>\n",
       "      <td>/company/the-movie-streamer</td>\n",
       "      <td>games_video</td>\n",
       "      <td>operating</td>\n",
       "      <td>2008-07-26</td>\n",
       "      <td>...</td>\n",
       "      <td>NaN</td>\n",
       "      <td>0</td>\n",
       "      <td>0.0</td>\n",
       "      <td>NaN</td>\n",
       "      <td>NaN</td>\n",
       "      <td>0</td>\n",
       "      <td>0</td>\n",
       "      <td>NaN</td>\n",
       "      <td>2008-08-24 17:10:34</td>\n",
       "      <td>2008-09-06 14:19:18</td>\n",
       "    </tr>\n",
       "  </tbody>\n",
       "</table>\n",
       "<p>5 rows × 40 columns</p>\n",
       "</div>"
      ],
      "text/plain": [
       "  funded_object_id entity_type  entity_id parent_id                name  \\\n",
       "0              c:1     Company          1       NaN            Wetpaint   \n",
       "1             c:10     Company         10       NaN             Flektor   \n",
       "2            c:100     Company        100       NaN               There   \n",
       "3          c:10000     Company      10000       NaN             MYWEBBO   \n",
       "4          c:10001     Company      10001       NaN  THE Movie Streamer   \n",
       "\n",
       "      normalized_name                    permalink    category_code  \\\n",
       "0            wetpaint            /company/wetpaint              web   \n",
       "1             flektor             /company/flektor      games_video   \n",
       "2               there               /company/there      games_video   \n",
       "3             mywebbo             /company/mywebbo  network_hosting   \n",
       "4  the movie streamer  /company/the-movie-streamer      games_video   \n",
       "\n",
       "      status  founded_at  ... last_funding_at funding_rounds  \\\n",
       "0  operating  2005-10-17  ...      2008-05-19              3   \n",
       "1   acquired         NaN  ...             NaN              0   \n",
       "2   acquired         NaN  ...             NaN              0   \n",
       "3  operating  2008-07-26  ...             NaN              0   \n",
       "4  operating  2008-07-26  ...             NaN              0   \n",
       "\n",
       "  funding_total_usd first_milestone_at last_milestone_at  milestones  \\\n",
       "0        39750000.0         2010-09-05        2013-09-18           5   \n",
       "1               0.0                NaN               NaN           0   \n",
       "2               0.0         2003-02-01        2011-09-23           4   \n",
       "3               0.0                NaN               NaN           0   \n",
       "4               0.0                NaN               NaN           0   \n",
       "\n",
       "   relationships        created_by           created_at           updated_at  \n",
       "0             17  initial-importer  2007-05-25 06:51:27  2013-04-13 03:29:00  \n",
       "1              6  initial-importer  2007-05-31 21:11:51  2008-05-23 23:23:14  \n",
       "2             12  initial-importer  2007-08-06 23:52:45  2013-11-04 02:09:48  \n",
       "3              0               NaN  2008-08-24 16:51:57  2008-09-06 14:19:18  \n",
       "4              0               NaN  2008-08-24 17:10:34  2008-09-06 14:19:18  \n",
       "\n",
       "[5 rows x 40 columns]"
      ]
     },
     "execution_count": 7,
     "metadata": {},
     "output_type": "execute_result"
    }
   ],
   "source": [
    "# Rename id in objects.csv to founded_object_id\n",
    "objects.rename(columns={'id':'funded_object_id'}, inplace=True)\n",
    "objects.head()"
   ]
  },
  {
   "cell_type": "code",
   "execution_count": 8,
   "metadata": {
    "execution": {
     "iopub.execute_input": "2020-11-04T03:37:51.997017Z",
     "iopub.status.busy": "2020-11-04T03:37:51.995365Z",
     "iopub.status.idle": "2020-11-04T03:37:52.593693Z",
     "shell.execute_reply": "2020-11-04T03:37:52.594550Z"
    },
    "papermill": {
     "duration": 0.663915,
     "end_time": "2020-11-04T03:37:52.594712",
     "exception": false,
     "start_time": "2020-11-04T03:37:51.930797",
     "status": "completed"
    },
    "tags": []
   },
   "outputs": [
    {
     "name": "stdout",
     "output_type": "stream",
     "text": [
      "<class 'pandas.core.frame.DataFrame'>\n",
      "RangeIndex: 462651 entries, 0 to 462650\n",
      "Data columns (total 22 columns):\n",
      " #   Column               Non-Null Count   Dtype  \n",
      "---  ------               --------------   -----  \n",
      " 0   funded_object_id     462651 non-null  object \n",
      " 1   entity_type          462651 non-null  object \n",
      " 2   name                 462649 non-null  object \n",
      " 3   permalink            462651 non-null  object \n",
      " 4   category_code        123186 non-null  object \n",
      " 5   status               462651 non-null  object \n",
      " 6   founded_at           100441 non-null  object \n",
      " 7   closed_at            2809 non-null    object \n",
      " 8   description          95005 non-null   object \n",
      " 9   country_code         95043 non-null   object \n",
      " 10  first_investment_at  16956 non-null   object \n",
      " 11  last_investment_at   16956 non-null   object \n",
      " 12  investment_rounds    462651 non-null  int64  \n",
      " 13  invested_companies   462651 non-null  int64  \n",
      " 14  first_funding_at     31507 non-null   object \n",
      " 15  last_funding_at      31507 non-null   object \n",
      " 16  funding_rounds       462651 non-null  int64  \n",
      " 17  funding_total_usd    462651 non-null  float64\n",
      " 18  first_milestone_at   100358 non-null  object \n",
      " 19  last_milestone_at    100358 non-null  object \n",
      " 20  milestones           462651 non-null  int64  \n",
      " 21  created_by           339486 non-null  object \n",
      "dtypes: float64(1), int64(4), object(17)\n",
      "memory usage: 77.7+ MB\n"
     ]
    }
   ],
   "source": [
    "objects.drop([\"created_at\",\"updated_at\", \"logo_url\", \"logo_width\",\"overview\", \"entity_id\",\"parent_id\",\"normalized_name\", \"logo_height\",\"short_description\", \"created_at\", \"updated_at\", \"twitter_username\",\"relationships\", \"domain\", \"homepage_url\", \"overview\", \"tag_list\",\"city\", \"region\", \"state_code\"], axis=\"columns\", inplace=True)\n",
    "objects.info()"
   ]
  },
  {
   "cell_type": "code",
   "execution_count": 9,
   "metadata": {
    "execution": {
     "iopub.execute_input": "2020-11-04T03:37:52.764797Z",
     "iopub.status.busy": "2020-11-04T03:37:52.763804Z",
     "iopub.status.idle": "2020-11-04T03:37:52.770948Z",
     "shell.execute_reply": "2020-11-04T03:37:52.771436Z"
    },
    "papermill": {
     "duration": 0.119652,
     "end_time": "2020-11-04T03:37:52.771554",
     "exception": false,
     "start_time": "2020-11-04T03:37:52.651902",
     "status": "completed"
    },
    "tags": []
   },
   "outputs": [
    {
     "data": {
      "text/plain": [
       "software            17922\n",
       "web                 15118\n",
       "other               13617\n",
       "ecommerce            9065\n",
       "games_video          7520\n",
       "mobile               6862\n",
       "advertising          6098\n",
       "consulting           5006\n",
       "enterprise           4441\n",
       "biotech              4430\n",
       "hardware             2951\n",
       "education            2901\n",
       "public_relations     2846\n",
       "network_hosting      2350\n",
       "search               2182\n",
       "cleantech            1940\n",
       "health               1698\n",
       "finance              1386\n",
       "social               1310\n",
       "security             1171\n",
       "medical              1153\n",
       "analytics            1022\n",
       "legal                1012\n",
       "travel                936\n",
       "local                 785\n",
       "hospitality           768\n",
       "news                  768\n",
       "semiconductor         696\n",
       "manufacturing         680\n",
       "sports                675\n",
       "music                 581\n",
       "fashion               563\n",
       "photo_video           544\n",
       "transportation        489\n",
       "real_estate           474\n",
       "messaging             296\n",
       "automotive            291\n",
       "design                281\n",
       "nonprofit             184\n",
       "nanotech               70\n",
       "pets                   61\n",
       "government             43\n",
       "Name: category_code, dtype: int64"
      ]
     },
     "execution_count": 9,
     "metadata": {},
     "output_type": "execute_result"
    }
   ],
   "source": [
    "objects['category_code'].value_counts()"
   ]
  },
  {
   "cell_type": "code",
   "execution_count": 10,
   "metadata": {
    "execution": {
     "iopub.execute_input": "2020-11-04T03:37:52.937944Z",
     "iopub.status.busy": "2020-11-04T03:37:52.937094Z",
     "iopub.status.idle": "2020-11-04T03:37:52.943970Z",
     "shell.execute_reply": "2020-11-04T03:37:52.944552Z"
    },
    "papermill": {
     "duration": 0.116295,
     "end_time": "2020-11-04T03:37:52.944702",
     "exception": false,
     "start_time": "2020-11-04T03:37:52.828407",
     "status": "completed"
    },
    "tags": []
   },
   "outputs": [
    {
     "data": {
      "text/plain": [
       "USA    55584\n",
       "GBR     7957\n",
       "IND     4057\n",
       "CAN     4005\n",
       "DEU     2157\n",
       "       ...  \n",
       "SYR        1\n",
       "GIN        1\n",
       "WSM        1\n",
       "TJK        1\n",
       "NRU        1\n",
       "Name: country_code, Length: 177, dtype: int64"
      ]
     },
     "execution_count": 10,
     "metadata": {},
     "output_type": "execute_result"
    }
   ],
   "source": [
    "objects['country_code'].value_counts()"
   ]
  },
  {
   "cell_type": "code",
   "execution_count": 11,
   "metadata": {
    "execution": {
     "iopub.execute_input": "2020-11-04T03:37:53.065295Z",
     "iopub.status.busy": "2020-11-04T03:37:53.064670Z",
     "iopub.status.idle": "2020-11-04T03:37:53.208321Z",
     "shell.execute_reply": "2020-11-04T03:37:53.207789Z"
    },
    "papermill": {
     "duration": 0.206739,
     "end_time": "2020-11-04T03:37:53.208437",
     "exception": false,
     "start_time": "2020-11-04T03:37:53.001698",
     "status": "completed"
    },
    "tags": []
   },
   "outputs": [
    {
     "data": {
      "text/html": [
       "<div>\n",
       "<style scoped>\n",
       "    .dataframe tbody tr th:only-of-type {\n",
       "        vertical-align: middle;\n",
       "    }\n",
       "\n",
       "    .dataframe tbody tr th {\n",
       "        vertical-align: top;\n",
       "    }\n",
       "\n",
       "    .dataframe thead th {\n",
       "        text-align: right;\n",
       "    }\n",
       "</style>\n",
       "<table border=\"1\" class=\"dataframe\">\n",
       "  <thead>\n",
       "    <tr style=\"text-align: right;\">\n",
       "      <th></th>\n",
       "      <th>id</th>\n",
       "      <th>funding_round_id</th>\n",
       "      <th>funded_object_id</th>\n",
       "      <th>investor_object_id</th>\n",
       "      <th>created_at</th>\n",
       "      <th>updated_at</th>\n",
       "    </tr>\n",
       "  </thead>\n",
       "  <tbody>\n",
       "    <tr>\n",
       "      <th>0</th>\n",
       "      <td>1</td>\n",
       "      <td>1</td>\n",
       "      <td>c:4</td>\n",
       "      <td>f:1</td>\n",
       "      <td>2007-07-04 04:52:57</td>\n",
       "      <td>2008-02-27 23:14:29</td>\n",
       "    </tr>\n",
       "    <tr>\n",
       "      <th>1</th>\n",
       "      <td>2</td>\n",
       "      <td>1</td>\n",
       "      <td>c:4</td>\n",
       "      <td>f:2</td>\n",
       "      <td>2007-07-04 04:52:57</td>\n",
       "      <td>2008-02-27 23:14:29</td>\n",
       "    </tr>\n",
       "    <tr>\n",
       "      <th>2</th>\n",
       "      <td>3</td>\n",
       "      <td>3</td>\n",
       "      <td>c:5</td>\n",
       "      <td>f:4</td>\n",
       "      <td>2007-05-27 06:09:10</td>\n",
       "      <td>2013-06-28 20:07:23</td>\n",
       "    </tr>\n",
       "    <tr>\n",
       "      <th>3</th>\n",
       "      <td>4</td>\n",
       "      <td>4</td>\n",
       "      <td>c:5</td>\n",
       "      <td>f:1</td>\n",
       "      <td>2007-05-27 06:09:36</td>\n",
       "      <td>2013-06-28 20:07:24</td>\n",
       "    </tr>\n",
       "    <tr>\n",
       "      <th>4</th>\n",
       "      <td>5</td>\n",
       "      <td>4</td>\n",
       "      <td>c:5</td>\n",
       "      <td>f:5</td>\n",
       "      <td>2007-05-27 06:09:36</td>\n",
       "      <td>2013-06-28 20:07:24</td>\n",
       "    </tr>\n",
       "  </tbody>\n",
       "</table>\n",
       "</div>"
      ],
      "text/plain": [
       "   id  funding_round_id funded_object_id investor_object_id  \\\n",
       "0   1                 1              c:4                f:1   \n",
       "1   2                 1              c:4                f:2   \n",
       "2   3                 3              c:5                f:4   \n",
       "3   4                 4              c:5                f:1   \n",
       "4   5                 4              c:5                f:5   \n",
       "\n",
       "            created_at           updated_at  \n",
       "0  2007-07-04 04:52:57  2008-02-27 23:14:29  \n",
       "1  2007-07-04 04:52:57  2008-02-27 23:14:29  \n",
       "2  2007-05-27 06:09:10  2013-06-28 20:07:23  \n",
       "3  2007-05-27 06:09:36  2013-06-28 20:07:24  \n",
       "4  2007-05-27 06:09:36  2013-06-28 20:07:24  "
      ]
     },
     "execution_count": 11,
     "metadata": {},
     "output_type": "execute_result"
    }
   ],
   "source": [
    "investments = pd.read_csv(\"../input/startup-investments/investments.csv\")\n",
    "investments.head()"
   ]
  },
  {
   "cell_type": "code",
   "execution_count": 12,
   "metadata": {
    "execution": {
     "iopub.execute_input": "2020-11-04T03:37:53.352295Z",
     "iopub.status.busy": "2020-11-04T03:37:53.340510Z",
     "iopub.status.idle": "2020-11-04T03:37:53.362259Z",
     "shell.execute_reply": "2020-11-04T03:37:53.361736Z"
    },
    "papermill": {
     "duration": 0.096877,
     "end_time": "2020-11-04T03:37:53.362356",
     "exception": false,
     "start_time": "2020-11-04T03:37:53.265479",
     "status": "completed"
    },
    "tags": []
   },
   "outputs": [
    {
     "data": {
      "text/plain": [
       "c:28535     58\n",
       "c:169876    58\n",
       "c:32499     54\n",
       "c:6460      53\n",
       "c:16284     49\n",
       "            ..\n",
       "c:234857     1\n",
       "c:268458     1\n",
       "c:38412      1\n",
       "c:41967      1\n",
       "c:30275      1\n",
       "Name: funded_object_id, Length: 21607, dtype: int64"
      ]
     },
     "execution_count": 12,
     "metadata": {},
     "output_type": "execute_result"
    }
   ],
   "source": [
    "investments['funded_object_id'].value_counts()"
   ]
  },
  {
   "cell_type": "code",
   "execution_count": 13,
   "metadata": {
    "execution": {
     "iopub.execute_input": "2020-11-04T03:37:53.582627Z",
     "iopub.status.busy": "2020-11-04T03:37:53.580957Z",
     "iopub.status.idle": "2020-11-04T03:37:54.202975Z",
     "shell.execute_reply": "2020-11-04T03:37:54.202485Z"
    },
    "papermill": {
     "duration": 0.784042,
     "end_time": "2020-11-04T03:37:54.203084",
     "exception": false,
     "start_time": "2020-11-04T03:37:53.419042",
     "status": "completed"
    },
    "tags": []
   },
   "outputs": [
    {
     "data": {
      "text/html": [
       "<div>\n",
       "<style scoped>\n",
       "    .dataframe tbody tr th:only-of-type {\n",
       "        vertical-align: middle;\n",
       "    }\n",
       "\n",
       "    .dataframe tbody tr th {\n",
       "        vertical-align: top;\n",
       "    }\n",
       "\n",
       "    .dataframe thead th {\n",
       "        text-align: right;\n",
       "    }\n",
       "</style>\n",
       "<table border=\"1\" class=\"dataframe\">\n",
       "  <thead>\n",
       "    <tr style=\"text-align: right;\">\n",
       "      <th></th>\n",
       "      <th>id</th>\n",
       "      <th>funding_round_id</th>\n",
       "      <th>funded_object_id</th>\n",
       "      <th>investor_object_id</th>\n",
       "      <th>created_at</th>\n",
       "      <th>updated_at</th>\n",
       "      <th>entity_type</th>\n",
       "      <th>name</th>\n",
       "      <th>permalink</th>\n",
       "      <th>category_code</th>\n",
       "      <th>...</th>\n",
       "      <th>investment_rounds</th>\n",
       "      <th>invested_companies</th>\n",
       "      <th>first_funding_at</th>\n",
       "      <th>last_funding_at</th>\n",
       "      <th>funding_rounds</th>\n",
       "      <th>funding_total_usd</th>\n",
       "      <th>first_milestone_at</th>\n",
       "      <th>last_milestone_at</th>\n",
       "      <th>milestones</th>\n",
       "      <th>created_by</th>\n",
       "    </tr>\n",
       "  </thead>\n",
       "  <tbody>\n",
       "    <tr>\n",
       "      <th>0</th>\n",
       "      <td>1</td>\n",
       "      <td>1</td>\n",
       "      <td>c:4</td>\n",
       "      <td>f:1</td>\n",
       "      <td>2007-07-04 04:52:57</td>\n",
       "      <td>2008-02-27 23:14:29</td>\n",
       "      <td>Company</td>\n",
       "      <td>Digg</td>\n",
       "      <td>/company/digg</td>\n",
       "      <td>news</td>\n",
       "      <td>...</td>\n",
       "      <td>0</td>\n",
       "      <td>0</td>\n",
       "      <td>2005-10-01</td>\n",
       "      <td>2011-07-12</td>\n",
       "      <td>4</td>\n",
       "      <td>45000000.0</td>\n",
       "      <td>2010-01-08</td>\n",
       "      <td>2013-12-04</td>\n",
       "      <td>8</td>\n",
       "      <td>initial-importer</td>\n",
       "    </tr>\n",
       "    <tr>\n",
       "      <th>1</th>\n",
       "      <td>2</td>\n",
       "      <td>1</td>\n",
       "      <td>c:4</td>\n",
       "      <td>f:2</td>\n",
       "      <td>2007-07-04 04:52:57</td>\n",
       "      <td>2008-02-27 23:14:29</td>\n",
       "      <td>Company</td>\n",
       "      <td>Digg</td>\n",
       "      <td>/company/digg</td>\n",
       "      <td>news</td>\n",
       "      <td>...</td>\n",
       "      <td>0</td>\n",
       "      <td>0</td>\n",
       "      <td>2005-10-01</td>\n",
       "      <td>2011-07-12</td>\n",
       "      <td>4</td>\n",
       "      <td>45000000.0</td>\n",
       "      <td>2010-01-08</td>\n",
       "      <td>2013-12-04</td>\n",
       "      <td>8</td>\n",
       "      <td>initial-importer</td>\n",
       "    </tr>\n",
       "    <tr>\n",
       "      <th>2</th>\n",
       "      <td>144</td>\n",
       "      <td>85</td>\n",
       "      <td>c:4</td>\n",
       "      <td>f:1</td>\n",
       "      <td>2007-07-04 04:56:09</td>\n",
       "      <td>2008-02-27 23:14:29</td>\n",
       "      <td>Company</td>\n",
       "      <td>Digg</td>\n",
       "      <td>/company/digg</td>\n",
       "      <td>news</td>\n",
       "      <td>...</td>\n",
       "      <td>0</td>\n",
       "      <td>0</td>\n",
       "      <td>2005-10-01</td>\n",
       "      <td>2011-07-12</td>\n",
       "      <td>4</td>\n",
       "      <td>45000000.0</td>\n",
       "      <td>2010-01-08</td>\n",
       "      <td>2013-12-04</td>\n",
       "      <td>8</td>\n",
       "      <td>initial-importer</td>\n",
       "    </tr>\n",
       "    <tr>\n",
       "      <th>3</th>\n",
       "      <td>145</td>\n",
       "      <td>85</td>\n",
       "      <td>c:4</td>\n",
       "      <td>f:2</td>\n",
       "      <td>2007-07-04 04:56:09</td>\n",
       "      <td>2008-02-27 23:14:29</td>\n",
       "      <td>Company</td>\n",
       "      <td>Digg</td>\n",
       "      <td>/company/digg</td>\n",
       "      <td>news</td>\n",
       "      <td>...</td>\n",
       "      <td>0</td>\n",
       "      <td>0</td>\n",
       "      <td>2005-10-01</td>\n",
       "      <td>2011-07-12</td>\n",
       "      <td>4</td>\n",
       "      <td>45000000.0</td>\n",
       "      <td>2010-01-08</td>\n",
       "      <td>2013-12-04</td>\n",
       "      <td>8</td>\n",
       "      <td>initial-importer</td>\n",
       "    </tr>\n",
       "    <tr>\n",
       "      <th>4</th>\n",
       "      <td>146</td>\n",
       "      <td>85</td>\n",
       "      <td>c:4</td>\n",
       "      <td>f:4850</td>\n",
       "      <td>2007-07-04 04:56:09</td>\n",
       "      <td>2008-02-27 23:14:29</td>\n",
       "      <td>Company</td>\n",
       "      <td>Digg</td>\n",
       "      <td>/company/digg</td>\n",
       "      <td>news</td>\n",
       "      <td>...</td>\n",
       "      <td>0</td>\n",
       "      <td>0</td>\n",
       "      <td>2005-10-01</td>\n",
       "      <td>2011-07-12</td>\n",
       "      <td>4</td>\n",
       "      <td>45000000.0</td>\n",
       "      <td>2010-01-08</td>\n",
       "      <td>2013-12-04</td>\n",
       "      <td>8</td>\n",
       "      <td>initial-importer</td>\n",
       "    </tr>\n",
       "  </tbody>\n",
       "</table>\n",
       "<p>5 rows × 27 columns</p>\n",
       "</div>"
      ],
      "text/plain": [
       "    id  funding_round_id funded_object_id investor_object_id  \\\n",
       "0    1                 1              c:4                f:1   \n",
       "1    2                 1              c:4                f:2   \n",
       "2  144                85              c:4                f:1   \n",
       "3  145                85              c:4                f:2   \n",
       "4  146                85              c:4             f:4850   \n",
       "\n",
       "            created_at           updated_at entity_type  name      permalink  \\\n",
       "0  2007-07-04 04:52:57  2008-02-27 23:14:29     Company  Digg  /company/digg   \n",
       "1  2007-07-04 04:52:57  2008-02-27 23:14:29     Company  Digg  /company/digg   \n",
       "2  2007-07-04 04:56:09  2008-02-27 23:14:29     Company  Digg  /company/digg   \n",
       "3  2007-07-04 04:56:09  2008-02-27 23:14:29     Company  Digg  /company/digg   \n",
       "4  2007-07-04 04:56:09  2008-02-27 23:14:29     Company  Digg  /company/digg   \n",
       "\n",
       "  category_code  ... investment_rounds invested_companies first_funding_at  \\\n",
       "0          news  ...                 0                  0       2005-10-01   \n",
       "1          news  ...                 0                  0       2005-10-01   \n",
       "2          news  ...                 0                  0       2005-10-01   \n",
       "3          news  ...                 0                  0       2005-10-01   \n",
       "4          news  ...                 0                  0       2005-10-01   \n",
       "\n",
       "  last_funding_at funding_rounds funding_total_usd first_milestone_at  \\\n",
       "0      2011-07-12              4        45000000.0         2010-01-08   \n",
       "1      2011-07-12              4        45000000.0         2010-01-08   \n",
       "2      2011-07-12              4        45000000.0         2010-01-08   \n",
       "3      2011-07-12              4        45000000.0         2010-01-08   \n",
       "4      2011-07-12              4        45000000.0         2010-01-08   \n",
       "\n",
       "   last_milestone_at  milestones        created_by  \n",
       "0         2013-12-04           8  initial-importer  \n",
       "1         2013-12-04           8  initial-importer  \n",
       "2         2013-12-04           8  initial-importer  \n",
       "3         2013-12-04           8  initial-importer  \n",
       "4         2013-12-04           8  initial-importer  \n",
       "\n",
       "[5 rows x 27 columns]"
      ]
     },
     "execution_count": 13,
     "metadata": {},
     "output_type": "execute_result"
    }
   ],
   "source": [
    "# Loading and merging the required dataset\n",
    "\n",
    "df = investments.merge(objects, on='funded_object_id')\n",
    "df.head()"
   ]
  },
  {
   "cell_type": "code",
   "execution_count": 14,
   "metadata": {
    "execution": {
     "iopub.execute_input": "2020-11-04T03:37:54.325822Z",
     "iopub.status.busy": "2020-11-04T03:37:54.324789Z",
     "iopub.status.idle": "2020-11-04T03:37:54.499048Z",
     "shell.execute_reply": "2020-11-04T03:37:54.499584Z"
    },
    "papermill": {
     "duration": 0.23803,
     "end_time": "2020-11-04T03:37:54.499728",
     "exception": false,
     "start_time": "2020-11-04T03:37:54.261698",
     "status": "completed"
    },
    "tags": []
   },
   "outputs": [
    {
     "name": "stdout",
     "output_type": "stream",
     "text": [
      "<class 'pandas.core.frame.DataFrame'>\n",
      "Int64Index: 80570 entries, 0 to 80569\n",
      "Data columns (total 27 columns):\n",
      " #   Column               Non-Null Count  Dtype  \n",
      "---  ------               --------------  -----  \n",
      " 0   id                   80570 non-null  int64  \n",
      " 1   funding_round_id     80570 non-null  int64  \n",
      " 2   funded_object_id     80570 non-null  object \n",
      " 3   investor_object_id   80570 non-null  object \n",
      " 4   created_at           80570 non-null  object \n",
      " 5   updated_at           80570 non-null  object \n",
      " 6   entity_type          80570 non-null  object \n",
      " 7   name                 80570 non-null  object \n",
      " 8   permalink            80570 non-null  object \n",
      " 9   category_code        78704 non-null  object \n",
      " 10  status               80570 non-null  object \n",
      " 11  founded_at           68590 non-null  object \n",
      " 12  closed_at            4014 non-null   object \n",
      " 13  description          58321 non-null  object \n",
      " 14  country_code         77875 non-null  object \n",
      " 15  first_investment_at  921 non-null    object \n",
      " 16  last_investment_at   921 non-null    object \n",
      " 17  investment_rounds    80570 non-null  int64  \n",
      " 18  invested_companies   80570 non-null  int64  \n",
      " 19  first_funding_at     80489 non-null  object \n",
      " 20  last_funding_at      80489 non-null  object \n",
      " 21  funding_rounds       80570 non-null  int64  \n",
      " 22  funding_total_usd    80570 non-null  float64\n",
      " 23  first_milestone_at   59954 non-null  object \n",
      " 24  last_milestone_at    59954 non-null  object \n",
      " 25  milestones           80570 non-null  int64  \n",
      " 26  created_by           67690 non-null  object \n",
      "dtypes: float64(1), int64(6), object(20)\n",
      "memory usage: 17.2+ MB\n"
     ]
    }
   ],
   "source": [
    "df.info()"
   ]
  },
  {
   "cell_type": "code",
   "execution_count": 15,
   "metadata": {
    "execution": {
     "iopub.execute_input": "2020-11-04T03:37:54.640794Z",
     "iopub.status.busy": "2020-11-04T03:37:54.639969Z",
     "iopub.status.idle": "2020-11-04T03:37:54.643798Z",
     "shell.execute_reply": "2020-11-04T03:37:54.643330Z"
    },
    "papermill": {
     "duration": 0.084427,
     "end_time": "2020-11-04T03:37:54.643897",
     "exception": false,
     "start_time": "2020-11-04T03:37:54.559470",
     "status": "completed"
    },
    "tags": []
   },
   "outputs": [
    {
     "data": {
      "text/plain": [
       "operating    63268\n",
       "acquired     11594\n",
       "closed        3894\n",
       "ipo           1814\n",
       "Name: status, dtype: int64"
      ]
     },
     "execution_count": 15,
     "metadata": {},
     "output_type": "execute_result"
    }
   ],
   "source": [
    "df['status'].value_counts()"
   ]
  },
  {
   "cell_type": "code",
   "execution_count": 16,
   "metadata": {
    "execution": {
     "iopub.execute_input": "2020-11-04T03:37:54.773137Z",
     "iopub.status.busy": "2020-11-04T03:37:54.772228Z",
     "iopub.status.idle": "2020-11-04T03:37:54.792710Z",
     "shell.execute_reply": "2020-11-04T03:37:54.792218Z"
    },
    "papermill": {
     "duration": 0.086849,
     "end_time": "2020-11-04T03:37:54.792817",
     "exception": false,
     "start_time": "2020-11-04T03:37:54.705968",
     "status": "completed"
    },
    "tags": []
   },
   "outputs": [],
   "source": [
    "df.drop([\"closed_at\", \"first_investment_at\",\"invested_companies\", \"investment_rounds\", \"created_at\", \"updated_at\"], axis=\"columns\", inplace= True)"
   ]
  },
  {
   "cell_type": "code",
   "execution_count": 17,
   "metadata": {
    "execution": {
     "iopub.execute_input": "2020-11-04T03:37:54.938639Z",
     "iopub.status.busy": "2020-11-04T03:37:54.937683Z",
     "iopub.status.idle": "2020-11-04T03:37:54.941467Z",
     "shell.execute_reply": "2020-11-04T03:37:54.941891Z"
    },
    "papermill": {
     "duration": 0.089937,
     "end_time": "2020-11-04T03:37:54.942015",
     "exception": false,
     "start_time": "2020-11-04T03:37:54.852078",
     "status": "completed"
    },
    "tags": []
   },
   "outputs": [
    {
     "data": {
      "text/html": [
       "<div>\n",
       "<style scoped>\n",
       "    .dataframe tbody tr th:only-of-type {\n",
       "        vertical-align: middle;\n",
       "    }\n",
       "\n",
       "    .dataframe tbody tr th {\n",
       "        vertical-align: top;\n",
       "    }\n",
       "\n",
       "    .dataframe thead th {\n",
       "        text-align: right;\n",
       "    }\n",
       "</style>\n",
       "<table border=\"1\" class=\"dataframe\">\n",
       "  <thead>\n",
       "    <tr style=\"text-align: right;\">\n",
       "      <th></th>\n",
       "      <th>id</th>\n",
       "      <th>funding_round_id</th>\n",
       "      <th>funded_object_id</th>\n",
       "      <th>investor_object_id</th>\n",
       "      <th>entity_type</th>\n",
       "      <th>name</th>\n",
       "      <th>permalink</th>\n",
       "      <th>category_code</th>\n",
       "      <th>status</th>\n",
       "      <th>founded_at</th>\n",
       "      <th>...</th>\n",
       "      <th>country_code</th>\n",
       "      <th>last_investment_at</th>\n",
       "      <th>first_funding_at</th>\n",
       "      <th>last_funding_at</th>\n",
       "      <th>funding_rounds</th>\n",
       "      <th>funding_total_usd</th>\n",
       "      <th>first_milestone_at</th>\n",
       "      <th>last_milestone_at</th>\n",
       "      <th>milestones</th>\n",
       "      <th>created_by</th>\n",
       "    </tr>\n",
       "  </thead>\n",
       "  <tbody>\n",
       "    <tr>\n",
       "      <th>80565</th>\n",
       "      <td>80891</td>\n",
       "      <td>57805</td>\n",
       "      <td>c:285592</td>\n",
       "      <td>p:189455</td>\n",
       "      <td>Company</td>\n",
       "      <td>Chippmunk</td>\n",
       "      <td>/company/chippmunk</td>\n",
       "      <td>ecommerce</td>\n",
       "      <td>operating</td>\n",
       "      <td>2013-09-19</td>\n",
       "      <td>...</td>\n",
       "      <td>USA</td>\n",
       "      <td>NaN</td>\n",
       "      <td>2013-12-11</td>\n",
       "      <td>2013-12-11</td>\n",
       "      <td>1</td>\n",
       "      <td>750000.0</td>\n",
       "      <td>2013-09-19</td>\n",
       "      <td>2013-09-19</td>\n",
       "      <td>1</td>\n",
       "      <td>chippmunk</td>\n",
       "    </tr>\n",
       "    <tr>\n",
       "      <th>80566</th>\n",
       "      <td>80899</td>\n",
       "      <td>57912</td>\n",
       "      <td>c:60389</td>\n",
       "      <td>p:268570</td>\n",
       "      <td>Company</td>\n",
       "      <td>ROCKETHOME</td>\n",
       "      <td>/company/rockethome</td>\n",
       "      <td>cleantech</td>\n",
       "      <td>operating</td>\n",
       "      <td>2010-06-01</td>\n",
       "      <td>...</td>\n",
       "      <td>DEU</td>\n",
       "      <td>NaN</td>\n",
       "      <td>2013-07-10</td>\n",
       "      <td>2013-07-10</td>\n",
       "      <td>1</td>\n",
       "      <td>0.0</td>\n",
       "      <td>2013-04-01</td>\n",
       "      <td>2013-07-10</td>\n",
       "      <td>2</td>\n",
       "      <td>NaN</td>\n",
       "    </tr>\n",
       "    <tr>\n",
       "      <th>80567</th>\n",
       "      <td>80900</td>\n",
       "      <td>57929</td>\n",
       "      <td>c:286183</td>\n",
       "      <td>p:365</td>\n",
       "      <td>Company</td>\n",
       "      <td>Wedding Spot</td>\n",
       "      <td>/company/wedding-spot</td>\n",
       "      <td>web</td>\n",
       "      <td>operating</td>\n",
       "      <td>2013-05-01</td>\n",
       "      <td>...</td>\n",
       "      <td>USA</td>\n",
       "      <td>NaN</td>\n",
       "      <td>2013-12-12</td>\n",
       "      <td>2013-12-12</td>\n",
       "      <td>1</td>\n",
       "      <td>225000.0</td>\n",
       "      <td>NaN</td>\n",
       "      <td>NaN</td>\n",
       "      <td>0</td>\n",
       "      <td>ramesh2013</td>\n",
       "    </tr>\n",
       "    <tr>\n",
       "      <th>80568</th>\n",
       "      <td>80901</td>\n",
       "      <td>57929</td>\n",
       "      <td>c:286183</td>\n",
       "      <td>p:176466</td>\n",
       "      <td>Company</td>\n",
       "      <td>Wedding Spot</td>\n",
       "      <td>/company/wedding-spot</td>\n",
       "      <td>web</td>\n",
       "      <td>operating</td>\n",
       "      <td>2013-05-01</td>\n",
       "      <td>...</td>\n",
       "      <td>USA</td>\n",
       "      <td>NaN</td>\n",
       "      <td>2013-12-12</td>\n",
       "      <td>2013-12-12</td>\n",
       "      <td>1</td>\n",
       "      <td>225000.0</td>\n",
       "      <td>NaN</td>\n",
       "      <td>NaN</td>\n",
       "      <td>0</td>\n",
       "      <td>ramesh2013</td>\n",
       "    </tr>\n",
       "    <tr>\n",
       "      <th>80569</th>\n",
       "      <td>80902</td>\n",
       "      <td>57929</td>\n",
       "      <td>c:286183</td>\n",
       "      <td>p:268577</td>\n",
       "      <td>Company</td>\n",
       "      <td>Wedding Spot</td>\n",
       "      <td>/company/wedding-spot</td>\n",
       "      <td>web</td>\n",
       "      <td>operating</td>\n",
       "      <td>2013-05-01</td>\n",
       "      <td>...</td>\n",
       "      <td>USA</td>\n",
       "      <td>NaN</td>\n",
       "      <td>2013-12-12</td>\n",
       "      <td>2013-12-12</td>\n",
       "      <td>1</td>\n",
       "      <td>225000.0</td>\n",
       "      <td>NaN</td>\n",
       "      <td>NaN</td>\n",
       "      <td>0</td>\n",
       "      <td>ramesh2013</td>\n",
       "    </tr>\n",
       "  </tbody>\n",
       "</table>\n",
       "<p>5 rows × 21 columns</p>\n",
       "</div>"
      ],
      "text/plain": [
       "          id  funding_round_id funded_object_id investor_object_id  \\\n",
       "80565  80891             57805         c:285592           p:189455   \n",
       "80566  80899             57912          c:60389           p:268570   \n",
       "80567  80900             57929         c:286183              p:365   \n",
       "80568  80901             57929         c:286183           p:176466   \n",
       "80569  80902             57929         c:286183           p:268577   \n",
       "\n",
       "      entity_type          name              permalink category_code  \\\n",
       "80565     Company     Chippmunk     /company/chippmunk     ecommerce   \n",
       "80566     Company    ROCKETHOME    /company/rockethome     cleantech   \n",
       "80567     Company  Wedding Spot  /company/wedding-spot           web   \n",
       "80568     Company  Wedding Spot  /company/wedding-spot           web   \n",
       "80569     Company  Wedding Spot  /company/wedding-spot           web   \n",
       "\n",
       "          status  founded_at  ... country_code last_investment_at  \\\n",
       "80565  operating  2013-09-19  ...          USA                NaN   \n",
       "80566  operating  2010-06-01  ...          DEU                NaN   \n",
       "80567  operating  2013-05-01  ...          USA                NaN   \n",
       "80568  operating  2013-05-01  ...          USA                NaN   \n",
       "80569  operating  2013-05-01  ...          USA                NaN   \n",
       "\n",
       "      first_funding_at last_funding_at funding_rounds  funding_total_usd  \\\n",
       "80565       2013-12-11      2013-12-11              1           750000.0   \n",
       "80566       2013-07-10      2013-07-10              1                0.0   \n",
       "80567       2013-12-12      2013-12-12              1           225000.0   \n",
       "80568       2013-12-12      2013-12-12              1           225000.0   \n",
       "80569       2013-12-12      2013-12-12              1           225000.0   \n",
       "\n",
       "       first_milestone_at last_milestone_at milestones  created_by  \n",
       "80565          2013-09-19        2013-09-19          1   chippmunk  \n",
       "80566          2013-04-01        2013-07-10          2         NaN  \n",
       "80567                 NaN               NaN          0  ramesh2013  \n",
       "80568                 NaN               NaN          0  ramesh2013  \n",
       "80569                 NaN               NaN          0  ramesh2013  \n",
       "\n",
       "[5 rows x 21 columns]"
      ]
     },
     "execution_count": 17,
     "metadata": {},
     "output_type": "execute_result"
    }
   ],
   "source": [
    "df.tail()"
   ]
  },
  {
   "cell_type": "code",
   "execution_count": 18,
   "metadata": {
    "execution": {
     "iopub.execute_input": "2020-11-04T03:37:55.091777Z",
     "iopub.status.busy": "2020-11-04T03:37:55.079902Z",
     "iopub.status.idle": "2020-11-04T03:37:55.101683Z",
     "shell.execute_reply": "2020-11-04T03:37:55.101178Z"
    },
    "papermill": {
     "duration": 0.099792,
     "end_time": "2020-11-04T03:37:55.101776",
     "exception": false,
     "start_time": "2020-11-04T03:37:55.001984",
     "status": "completed"
    },
    "tags": []
   },
   "outputs": [
    {
     "data": {
      "text/plain": [
       "c:28535     58\n",
       "c:169876    58\n",
       "c:32499     54\n",
       "c:6460      53\n",
       "c:16284     49\n",
       "            ..\n",
       "c:38593      1\n",
       "c:35561      1\n",
       "c:20312      1\n",
       "c:234198     1\n",
       "c:80840      1\n",
       "Name: funded_object_id, Length: 21485, dtype: int64"
      ]
     },
     "execution_count": 18,
     "metadata": {},
     "output_type": "execute_result"
    }
   ],
   "source": [
    "df['funded_object_id'].value_counts()"
   ]
  },
  {
   "cell_type": "code",
   "execution_count": 19,
   "metadata": {
    "execution": {
     "iopub.execute_input": "2020-11-04T03:37:55.227502Z",
     "iopub.status.busy": "2020-11-04T03:37:55.226891Z",
     "iopub.status.idle": "2020-11-04T03:37:55.581864Z",
     "shell.execute_reply": "2020-11-04T03:37:55.582395Z"
    },
    "papermill": {
     "duration": 0.420455,
     "end_time": "2020-11-04T03:37:55.582532",
     "exception": false,
     "start_time": "2020-11-04T03:37:55.162077",
     "status": "completed"
    },
    "tags": []
   },
   "outputs": [
    {
     "data": {
      "text/html": [
       "<div>\n",
       "<style scoped>\n",
       "    .dataframe tbody tr th:only-of-type {\n",
       "        vertical-align: middle;\n",
       "    }\n",
       "\n",
       "    .dataframe tbody tr th {\n",
       "        vertical-align: top;\n",
       "    }\n",
       "\n",
       "    .dataframe thead th {\n",
       "        text-align: right;\n",
       "    }\n",
       "</style>\n",
       "<table border=\"1\" class=\"dataframe\">\n",
       "  <thead>\n",
       "    <tr style=\"text-align: right;\">\n",
       "      <th></th>\n",
       "      <th>id</th>\n",
       "      <th>funding_round_id</th>\n",
       "      <th>object_id</th>\n",
       "      <th>funded_at</th>\n",
       "      <th>funding_round_type</th>\n",
       "      <th>funding_round_code</th>\n",
       "      <th>raised_amount_usd</th>\n",
       "      <th>raised_amount</th>\n",
       "      <th>raised_currency_code</th>\n",
       "      <th>pre_money_valuation_usd</th>\n",
       "      <th>...</th>\n",
       "      <th>post_money_valuation</th>\n",
       "      <th>post_money_currency_code</th>\n",
       "      <th>participants</th>\n",
       "      <th>is_first_round</th>\n",
       "      <th>is_last_round</th>\n",
       "      <th>source_url</th>\n",
       "      <th>source_description</th>\n",
       "      <th>created_by</th>\n",
       "      <th>created_at</th>\n",
       "      <th>updated_at</th>\n",
       "    </tr>\n",
       "  </thead>\n",
       "  <tbody>\n",
       "    <tr>\n",
       "      <th>0</th>\n",
       "      <td>1</td>\n",
       "      <td>1</td>\n",
       "      <td>c:4</td>\n",
       "      <td>2006-12-01</td>\n",
       "      <td>series-b</td>\n",
       "      <td>b</td>\n",
       "      <td>8500000.0</td>\n",
       "      <td>8500000.0</td>\n",
       "      <td>USD</td>\n",
       "      <td>0.0</td>\n",
       "      <td>...</td>\n",
       "      <td>0.0</td>\n",
       "      <td>NaN</td>\n",
       "      <td>2</td>\n",
       "      <td>0</td>\n",
       "      <td>0</td>\n",
       "      <td>http://www.marketingvox.com/archives/2006/12/2...</td>\n",
       "      <td>NaN</td>\n",
       "      <td>initial-importer</td>\n",
       "      <td>2007-07-04 04:52:57</td>\n",
       "      <td>2008-02-27 23:14:29</td>\n",
       "    </tr>\n",
       "    <tr>\n",
       "      <th>1</th>\n",
       "      <td>2</td>\n",
       "      <td>2</td>\n",
       "      <td>c:5</td>\n",
       "      <td>2004-09-01</td>\n",
       "      <td>angel</td>\n",
       "      <td>angel</td>\n",
       "      <td>500000.0</td>\n",
       "      <td>500000.0</td>\n",
       "      <td>USD</td>\n",
       "      <td>0.0</td>\n",
       "      <td>...</td>\n",
       "      <td>0.0</td>\n",
       "      <td>USD</td>\n",
       "      <td>2</td>\n",
       "      <td>0</td>\n",
       "      <td>1</td>\n",
       "      <td>NaN</td>\n",
       "      <td>NaN</td>\n",
       "      <td>initial-importer</td>\n",
       "      <td>2007-05-27 06:08:18</td>\n",
       "      <td>2013-06-28 20:07:23</td>\n",
       "    </tr>\n",
       "    <tr>\n",
       "      <th>2</th>\n",
       "      <td>3</td>\n",
       "      <td>3</td>\n",
       "      <td>c:5</td>\n",
       "      <td>2005-05-01</td>\n",
       "      <td>series-a</td>\n",
       "      <td>a</td>\n",
       "      <td>12700000.0</td>\n",
       "      <td>12700000.0</td>\n",
       "      <td>USD</td>\n",
       "      <td>115000000.0</td>\n",
       "      <td>...</td>\n",
       "      <td>0.0</td>\n",
       "      <td>USD</td>\n",
       "      <td>3</td>\n",
       "      <td>0</td>\n",
       "      <td>0</td>\n",
       "      <td>http://www.techcrunch.com/2007/11/02/jim-breye...</td>\n",
       "      <td>Jim Breyer: Extra $500 Million Round For Faceb...</td>\n",
       "      <td>initial-importer</td>\n",
       "      <td>2007-05-27 06:09:10</td>\n",
       "      <td>2013-06-28 20:07:23</td>\n",
       "    </tr>\n",
       "    <tr>\n",
       "      <th>3</th>\n",
       "      <td>4</td>\n",
       "      <td>4</td>\n",
       "      <td>c:5</td>\n",
       "      <td>2006-04-01</td>\n",
       "      <td>series-b</td>\n",
       "      <td>b</td>\n",
       "      <td>27500000.0</td>\n",
       "      <td>27500000.0</td>\n",
       "      <td>USD</td>\n",
       "      <td>525000000.0</td>\n",
       "      <td>...</td>\n",
       "      <td>0.0</td>\n",
       "      <td>USD</td>\n",
       "      <td>4</td>\n",
       "      <td>0</td>\n",
       "      <td>0</td>\n",
       "      <td>http://www.facebook.com/press/info.php?factsheet</td>\n",
       "      <td>Facebook Funding</td>\n",
       "      <td>initial-importer</td>\n",
       "      <td>2007-05-27 06:09:36</td>\n",
       "      <td>2013-06-28 20:07:24</td>\n",
       "    </tr>\n",
       "    <tr>\n",
       "      <th>4</th>\n",
       "      <td>5</td>\n",
       "      <td>5</td>\n",
       "      <td>c:7299</td>\n",
       "      <td>2006-05-01</td>\n",
       "      <td>series-b</td>\n",
       "      <td>b</td>\n",
       "      <td>10500000.0</td>\n",
       "      <td>10500000.0</td>\n",
       "      <td>USD</td>\n",
       "      <td>0.0</td>\n",
       "      <td>...</td>\n",
       "      <td>0.0</td>\n",
       "      <td>NaN</td>\n",
       "      <td>2</td>\n",
       "      <td>0</td>\n",
       "      <td>0</td>\n",
       "      <td>http://www.techcrunch.com/2006/05/14/photobuck...</td>\n",
       "      <td>PhotoBucket Closes $10.5M From Trinity Ventures</td>\n",
       "      <td>initial-importer</td>\n",
       "      <td>2007-05-29 11:05:59</td>\n",
       "      <td>2008-04-16 17:09:12</td>\n",
       "    </tr>\n",
       "  </tbody>\n",
       "</table>\n",
       "<p>5 rows × 23 columns</p>\n",
       "</div>"
      ],
      "text/plain": [
       "   id  funding_round_id object_id   funded_at funding_round_type  \\\n",
       "0   1                 1       c:4  2006-12-01           series-b   \n",
       "1   2                 2       c:5  2004-09-01              angel   \n",
       "2   3                 3       c:5  2005-05-01           series-a   \n",
       "3   4                 4       c:5  2006-04-01           series-b   \n",
       "4   5                 5    c:7299  2006-05-01           series-b   \n",
       "\n",
       "  funding_round_code  raised_amount_usd  raised_amount raised_currency_code  \\\n",
       "0                  b          8500000.0      8500000.0                  USD   \n",
       "1              angel           500000.0       500000.0                  USD   \n",
       "2                  a         12700000.0     12700000.0                  USD   \n",
       "3                  b         27500000.0     27500000.0                  USD   \n",
       "4                  b         10500000.0     10500000.0                  USD   \n",
       "\n",
       "   pre_money_valuation_usd  ...  post_money_valuation  \\\n",
       "0                      0.0  ...                   0.0   \n",
       "1                      0.0  ...                   0.0   \n",
       "2              115000000.0  ...                   0.0   \n",
       "3              525000000.0  ...                   0.0   \n",
       "4                      0.0  ...                   0.0   \n",
       "\n",
       "  post_money_currency_code  participants  is_first_round is_last_round  \\\n",
       "0                      NaN             2               0             0   \n",
       "1                      USD             2               0             1   \n",
       "2                      USD             3               0             0   \n",
       "3                      USD             4               0             0   \n",
       "4                      NaN             2               0             0   \n",
       "\n",
       "                                          source_url  \\\n",
       "0  http://www.marketingvox.com/archives/2006/12/2...   \n",
       "1                                                NaN   \n",
       "2  http://www.techcrunch.com/2007/11/02/jim-breye...   \n",
       "3   http://www.facebook.com/press/info.php?factsheet   \n",
       "4  http://www.techcrunch.com/2006/05/14/photobuck...   \n",
       "\n",
       "                                  source_description        created_by  \\\n",
       "0                                                NaN  initial-importer   \n",
       "1                                                NaN  initial-importer   \n",
       "2  Jim Breyer: Extra $500 Million Round For Faceb...  initial-importer   \n",
       "3                                   Facebook Funding  initial-importer   \n",
       "4    PhotoBucket Closes $10.5M From Trinity Ventures  initial-importer   \n",
       "\n",
       "            created_at           updated_at  \n",
       "0  2007-07-04 04:52:57  2008-02-27 23:14:29  \n",
       "1  2007-05-27 06:08:18  2013-06-28 20:07:23  \n",
       "2  2007-05-27 06:09:10  2013-06-28 20:07:23  \n",
       "3  2007-05-27 06:09:36  2013-06-28 20:07:24  \n",
       "4  2007-05-29 11:05:59  2008-04-16 17:09:12  \n",
       "\n",
       "[5 rows x 23 columns]"
      ]
     },
     "execution_count": 19,
     "metadata": {},
     "output_type": "execute_result"
    }
   ],
   "source": [
    "A = pd.read_csv(\"../input/startup-investments/funding_rounds.csv\")\n",
    "A.head()"
   ]
  },
  {
   "cell_type": "code",
   "execution_count": 20,
   "metadata": {
    "execution": {
     "iopub.execute_input": "2020-11-04T03:37:55.711886Z",
     "iopub.status.busy": "2020-11-04T03:37:55.711095Z",
     "iopub.status.idle": "2020-11-04T03:37:55.778346Z",
     "shell.execute_reply": "2020-11-04T03:37:55.777804Z"
    },
    "papermill": {
     "duration": 0.133612,
     "end_time": "2020-11-04T03:37:55.778450",
     "exception": false,
     "start_time": "2020-11-04T03:37:55.644838",
     "status": "completed"
    },
    "tags": []
   },
   "outputs": [
    {
     "name": "stdout",
     "output_type": "stream",
     "text": [
      "<class 'pandas.core.frame.DataFrame'>\n",
      "RangeIndex: 52928 entries, 0 to 52927\n",
      "Data columns (total 23 columns):\n",
      " #   Column                    Non-Null Count  Dtype  \n",
      "---  ------                    --------------  -----  \n",
      " 0   id                        52928 non-null  int64  \n",
      " 1   funding_round_id          52928 non-null  int64  \n",
      " 2   object_id                 52928 non-null  object \n",
      " 3   funded_at                 52680 non-null  object \n",
      " 4   funding_round_type        52928 non-null  object \n",
      " 5   funding_round_code        52928 non-null  object \n",
      " 6   raised_amount_usd         52928 non-null  float64\n",
      " 7   raised_amount             52928 non-null  float64\n",
      " 8   raised_currency_code      49862 non-null  object \n",
      " 9   pre_money_valuation_usd   52928 non-null  float64\n",
      " 10  pre_money_valuation       52928 non-null  float64\n",
      " 11  pre_money_currency_code   26883 non-null  object \n",
      " 12  post_money_valuation_usd  52928 non-null  float64\n",
      " 13  post_money_valuation      52928 non-null  float64\n",
      " 14  post_money_currency_code  30448 non-null  object \n",
      " 15  participants              52928 non-null  int64  \n",
      " 16  is_first_round            52928 non-null  int64  \n",
      " 17  is_last_round             52928 non-null  int64  \n",
      " 18  source_url                40382 non-null  object \n",
      " 19  source_description        43439 non-null  object \n",
      " 20  created_by                48291 non-null  object \n",
      " 21  created_at                52928 non-null  object \n",
      " 22  updated_at                52928 non-null  object \n",
      "dtypes: float64(6), int64(5), object(12)\n",
      "memory usage: 9.3+ MB\n"
     ]
    }
   ],
   "source": [
    "A.info()"
   ]
  },
  {
   "cell_type": "code",
   "execution_count": 21,
   "metadata": {
    "execution": {
     "iopub.execute_input": "2020-11-04T03:37:55.918903Z",
     "iopub.status.busy": "2020-11-04T03:37:55.916638Z",
     "iopub.status.idle": "2020-11-04T03:37:55.921744Z",
     "shell.execute_reply": "2020-11-04T03:37:55.921218Z"
    },
    "papermill": {
     "duration": 0.081317,
     "end_time": "2020-11-04T03:37:55.921847",
     "exception": false,
     "start_time": "2020-11-04T03:37:55.840530",
     "status": "completed"
    },
    "tags": []
   },
   "outputs": [],
   "source": [
    "A.drop(['id', 'funding_round_id', 'funding_round_code', 'raised_amount', 'raised_currency_code', 'pre_money_valuation_usd', 'pre_money_valuation', 'pre_money_currency_code', 'post_money_valuation_usd', 'post_money_currency_code', 'participants', 'is_first_round', 'is_last_round', 'source_url', 'source_description', 'created_by', 'updated_at', 'created_at'], axis='columns', inplace=True)"
   ]
  },
  {
   "cell_type": "code",
   "execution_count": 22,
   "metadata": {
    "execution": {
     "iopub.execute_input": "2020-11-04T03:37:56.052870Z",
     "iopub.status.busy": "2020-11-04T03:37:56.052200Z",
     "iopub.status.idle": "2020-11-04T03:37:56.055827Z",
     "shell.execute_reply": "2020-11-04T03:37:56.055329Z"
    },
    "papermill": {
     "duration": 0.072005,
     "end_time": "2020-11-04T03:37:56.055921",
     "exception": false,
     "start_time": "2020-11-04T03:37:55.983916",
     "status": "completed"
    },
    "tags": []
   },
   "outputs": [],
   "source": [
    "A.drop(['post_money_valuation'], axis='columns', inplace=True)"
   ]
  },
  {
   "cell_type": "code",
   "execution_count": 23,
   "metadata": {
    "execution": {
     "iopub.execute_input": "2020-11-04T03:37:56.191435Z",
     "iopub.status.busy": "2020-11-04T03:37:56.190687Z",
     "iopub.status.idle": "2020-11-04T03:37:56.194100Z",
     "shell.execute_reply": "2020-11-04T03:37:56.194573Z"
    },
    "papermill": {
     "duration": 0.077097,
     "end_time": "2020-11-04T03:37:56.194701",
     "exception": false,
     "start_time": "2020-11-04T03:37:56.117604",
     "status": "completed"
    },
    "tags": []
   },
   "outputs": [
    {
     "data": {
      "text/html": [
       "<div>\n",
       "<style scoped>\n",
       "    .dataframe tbody tr th:only-of-type {\n",
       "        vertical-align: middle;\n",
       "    }\n",
       "\n",
       "    .dataframe tbody tr th {\n",
       "        vertical-align: top;\n",
       "    }\n",
       "\n",
       "    .dataframe thead th {\n",
       "        text-align: right;\n",
       "    }\n",
       "</style>\n",
       "<table border=\"1\" class=\"dataframe\">\n",
       "  <thead>\n",
       "    <tr style=\"text-align: right;\">\n",
       "      <th></th>\n",
       "      <th>funded_object_id</th>\n",
       "      <th>funded_at</th>\n",
       "      <th>funding_round_type</th>\n",
       "      <th>raised_amount_usd</th>\n",
       "    </tr>\n",
       "  </thead>\n",
       "  <tbody>\n",
       "    <tr>\n",
       "      <th>0</th>\n",
       "      <td>c:4</td>\n",
       "      <td>2006-12-01</td>\n",
       "      <td>series-b</td>\n",
       "      <td>8500000.0</td>\n",
       "    </tr>\n",
       "    <tr>\n",
       "      <th>1</th>\n",
       "      <td>c:5</td>\n",
       "      <td>2004-09-01</td>\n",
       "      <td>angel</td>\n",
       "      <td>500000.0</td>\n",
       "    </tr>\n",
       "    <tr>\n",
       "      <th>2</th>\n",
       "      <td>c:5</td>\n",
       "      <td>2005-05-01</td>\n",
       "      <td>series-a</td>\n",
       "      <td>12700000.0</td>\n",
       "    </tr>\n",
       "    <tr>\n",
       "      <th>3</th>\n",
       "      <td>c:5</td>\n",
       "      <td>2006-04-01</td>\n",
       "      <td>series-b</td>\n",
       "      <td>27500000.0</td>\n",
       "    </tr>\n",
       "    <tr>\n",
       "      <th>4</th>\n",
       "      <td>c:7299</td>\n",
       "      <td>2006-05-01</td>\n",
       "      <td>series-b</td>\n",
       "      <td>10500000.0</td>\n",
       "    </tr>\n",
       "  </tbody>\n",
       "</table>\n",
       "</div>"
      ],
      "text/plain": [
       "  funded_object_id   funded_at funding_round_type  raised_amount_usd\n",
       "0              c:4  2006-12-01           series-b          8500000.0\n",
       "1              c:5  2004-09-01              angel           500000.0\n",
       "2              c:5  2005-05-01           series-a         12700000.0\n",
       "3              c:5  2006-04-01           series-b         27500000.0\n",
       "4           c:7299  2006-05-01           series-b         10500000.0"
      ]
     },
     "execution_count": 23,
     "metadata": {},
     "output_type": "execute_result"
    }
   ],
   "source": [
    "A.rename(columns={'object_id':'funded_object_id'}, inplace=True)\n",
    "A.head()"
   ]
  },
  {
   "cell_type": "code",
   "execution_count": 24,
   "metadata": {
    "execution": {
     "iopub.execute_input": "2020-11-04T03:37:56.329290Z",
     "iopub.status.busy": "2020-11-04T03:37:56.328082Z",
     "iopub.status.idle": "2020-11-04T03:37:56.601144Z",
     "shell.execute_reply": "2020-11-04T03:37:56.601661Z"
    },
    "papermill": {
     "duration": 0.343437,
     "end_time": "2020-11-04T03:37:56.601793",
     "exception": false,
     "start_time": "2020-11-04T03:37:56.258356",
     "status": "completed"
    },
    "tags": []
   },
   "outputs": [
    {
     "data": {
      "text/html": [
       "<div>\n",
       "<style scoped>\n",
       "    .dataframe tbody tr th:only-of-type {\n",
       "        vertical-align: middle;\n",
       "    }\n",
       "\n",
       "    .dataframe tbody tr th {\n",
       "        vertical-align: top;\n",
       "    }\n",
       "\n",
       "    .dataframe thead th {\n",
       "        text-align: right;\n",
       "    }\n",
       "</style>\n",
       "<table border=\"1\" class=\"dataframe\">\n",
       "  <thead>\n",
       "    <tr style=\"text-align: right;\">\n",
       "      <th></th>\n",
       "      <th>id</th>\n",
       "      <th>funding_round_id</th>\n",
       "      <th>funded_object_id</th>\n",
       "      <th>investor_object_id</th>\n",
       "      <th>entity_type</th>\n",
       "      <th>name</th>\n",
       "      <th>permalink</th>\n",
       "      <th>category_code</th>\n",
       "      <th>status</th>\n",
       "      <th>founded_at</th>\n",
       "      <th>...</th>\n",
       "      <th>last_funding_at</th>\n",
       "      <th>funding_rounds</th>\n",
       "      <th>funding_total_usd</th>\n",
       "      <th>first_milestone_at</th>\n",
       "      <th>last_milestone_at</th>\n",
       "      <th>milestones</th>\n",
       "      <th>created_by</th>\n",
       "      <th>funded_at</th>\n",
       "      <th>funding_round_type</th>\n",
       "      <th>raised_amount_usd</th>\n",
       "    </tr>\n",
       "  </thead>\n",
       "  <tbody>\n",
       "    <tr>\n",
       "      <th>0</th>\n",
       "      <td>1</td>\n",
       "      <td>1</td>\n",
       "      <td>c:4</td>\n",
       "      <td>f:1</td>\n",
       "      <td>Company</td>\n",
       "      <td>Digg</td>\n",
       "      <td>/company/digg</td>\n",
       "      <td>news</td>\n",
       "      <td>acquired</td>\n",
       "      <td>2004-10-11</td>\n",
       "      <td>...</td>\n",
       "      <td>2011-07-12</td>\n",
       "      <td>4</td>\n",
       "      <td>45000000.0</td>\n",
       "      <td>2010-01-08</td>\n",
       "      <td>2013-12-04</td>\n",
       "      <td>8</td>\n",
       "      <td>initial-importer</td>\n",
       "      <td>2006-12-01</td>\n",
       "      <td>series-b</td>\n",
       "      <td>8500000.0</td>\n",
       "    </tr>\n",
       "    <tr>\n",
       "      <th>1</th>\n",
       "      <td>1</td>\n",
       "      <td>1</td>\n",
       "      <td>c:4</td>\n",
       "      <td>f:1</td>\n",
       "      <td>Company</td>\n",
       "      <td>Digg</td>\n",
       "      <td>/company/digg</td>\n",
       "      <td>news</td>\n",
       "      <td>acquired</td>\n",
       "      <td>2004-10-11</td>\n",
       "      <td>...</td>\n",
       "      <td>2011-07-12</td>\n",
       "      <td>4</td>\n",
       "      <td>45000000.0</td>\n",
       "      <td>2010-01-08</td>\n",
       "      <td>2013-12-04</td>\n",
       "      <td>8</td>\n",
       "      <td>initial-importer</td>\n",
       "      <td>2005-10-01</td>\n",
       "      <td>series-a</td>\n",
       "      <td>2800000.0</td>\n",
       "    </tr>\n",
       "    <tr>\n",
       "      <th>2</th>\n",
       "      <td>1</td>\n",
       "      <td>1</td>\n",
       "      <td>c:4</td>\n",
       "      <td>f:1</td>\n",
       "      <td>Company</td>\n",
       "      <td>Digg</td>\n",
       "      <td>/company/digg</td>\n",
       "      <td>news</td>\n",
       "      <td>acquired</td>\n",
       "      <td>2004-10-11</td>\n",
       "      <td>...</td>\n",
       "      <td>2011-07-12</td>\n",
       "      <td>4</td>\n",
       "      <td>45000000.0</td>\n",
       "      <td>2010-01-08</td>\n",
       "      <td>2013-12-04</td>\n",
       "      <td>8</td>\n",
       "      <td>initial-importer</td>\n",
       "      <td>2008-09-24</td>\n",
       "      <td>series-c+</td>\n",
       "      <td>28700000.0</td>\n",
       "    </tr>\n",
       "    <tr>\n",
       "      <th>3</th>\n",
       "      <td>1</td>\n",
       "      <td>1</td>\n",
       "      <td>c:4</td>\n",
       "      <td>f:1</td>\n",
       "      <td>Company</td>\n",
       "      <td>Digg</td>\n",
       "      <td>/company/digg</td>\n",
       "      <td>news</td>\n",
       "      <td>acquired</td>\n",
       "      <td>2004-10-11</td>\n",
       "      <td>...</td>\n",
       "      <td>2011-07-12</td>\n",
       "      <td>4</td>\n",
       "      <td>45000000.0</td>\n",
       "      <td>2010-01-08</td>\n",
       "      <td>2013-12-04</td>\n",
       "      <td>8</td>\n",
       "      <td>initial-importer</td>\n",
       "      <td>2011-07-12</td>\n",
       "      <td>series-c+</td>\n",
       "      <td>5000000.0</td>\n",
       "    </tr>\n",
       "    <tr>\n",
       "      <th>4</th>\n",
       "      <td>2</td>\n",
       "      <td>1</td>\n",
       "      <td>c:4</td>\n",
       "      <td>f:2</td>\n",
       "      <td>Company</td>\n",
       "      <td>Digg</td>\n",
       "      <td>/company/digg</td>\n",
       "      <td>news</td>\n",
       "      <td>acquired</td>\n",
       "      <td>2004-10-11</td>\n",
       "      <td>...</td>\n",
       "      <td>2011-07-12</td>\n",
       "      <td>4</td>\n",
       "      <td>45000000.0</td>\n",
       "      <td>2010-01-08</td>\n",
       "      <td>2013-12-04</td>\n",
       "      <td>8</td>\n",
       "      <td>initial-importer</td>\n",
       "      <td>2006-12-01</td>\n",
       "      <td>series-b</td>\n",
       "      <td>8500000.0</td>\n",
       "    </tr>\n",
       "  </tbody>\n",
       "</table>\n",
       "<p>5 rows × 24 columns</p>\n",
       "</div>"
      ],
      "text/plain": [
       "   id  funding_round_id funded_object_id investor_object_id entity_type  name  \\\n",
       "0   1                 1              c:4                f:1     Company  Digg   \n",
       "1   1                 1              c:4                f:1     Company  Digg   \n",
       "2   1                 1              c:4                f:1     Company  Digg   \n",
       "3   1                 1              c:4                f:1     Company  Digg   \n",
       "4   2                 1              c:4                f:2     Company  Digg   \n",
       "\n",
       "       permalink category_code    status  founded_at  ... last_funding_at  \\\n",
       "0  /company/digg          news  acquired  2004-10-11  ...      2011-07-12   \n",
       "1  /company/digg          news  acquired  2004-10-11  ...      2011-07-12   \n",
       "2  /company/digg          news  acquired  2004-10-11  ...      2011-07-12   \n",
       "3  /company/digg          news  acquired  2004-10-11  ...      2011-07-12   \n",
       "4  /company/digg          news  acquired  2004-10-11  ...      2011-07-12   \n",
       "\n",
       "  funding_rounds funding_total_usd first_milestone_at last_milestone_at  \\\n",
       "0              4        45000000.0         2010-01-08        2013-12-04   \n",
       "1              4        45000000.0         2010-01-08        2013-12-04   \n",
       "2              4        45000000.0         2010-01-08        2013-12-04   \n",
       "3              4        45000000.0         2010-01-08        2013-12-04   \n",
       "4              4        45000000.0         2010-01-08        2013-12-04   \n",
       "\n",
       "   milestones        created_by   funded_at funding_round_type  \\\n",
       "0           8  initial-importer  2006-12-01           series-b   \n",
       "1           8  initial-importer  2005-10-01           series-a   \n",
       "2           8  initial-importer  2008-09-24          series-c+   \n",
       "3           8  initial-importer  2011-07-12          series-c+   \n",
       "4           8  initial-importer  2006-12-01           series-b   \n",
       "\n",
       "   raised_amount_usd  \n",
       "0          8500000.0  \n",
       "1          2800000.0  \n",
       "2         28700000.0  \n",
       "3          5000000.0  \n",
       "4          8500000.0  \n",
       "\n",
       "[5 rows x 24 columns]"
      ]
     },
     "execution_count": 24,
     "metadata": {},
     "output_type": "execute_result"
    }
   ],
   "source": [
    "df2 = df.merge(A, on='funded_object_id')\n",
    "df2.head()"
   ]
  },
  {
   "cell_type": "code",
   "execution_count": 25,
   "metadata": {
    "execution": {
     "iopub.execute_input": "2020-11-04T03:37:56.738637Z",
     "iopub.status.busy": "2020-11-04T03:37:56.736768Z",
     "iopub.status.idle": "2020-11-04T03:37:57.209807Z",
     "shell.execute_reply": "2020-11-04T03:37:57.210263Z"
    },
    "papermill": {
     "duration": 0.543459,
     "end_time": "2020-11-04T03:37:57.210399",
     "exception": false,
     "start_time": "2020-11-04T03:37:56.666940",
     "status": "completed"
    },
    "tags": []
   },
   "outputs": [
    {
     "name": "stdout",
     "output_type": "stream",
     "text": [
      "<class 'pandas.core.frame.DataFrame'>\n",
      "Int64Index: 223898 entries, 0 to 223897\n",
      "Data columns (total 24 columns):\n",
      " #   Column              Non-Null Count   Dtype  \n",
      "---  ------              --------------   -----  \n",
      " 0   id                  223898 non-null  int64  \n",
      " 1   funding_round_id    223898 non-null  int64  \n",
      " 2   funded_object_id    223898 non-null  object \n",
      " 3   investor_object_id  223898 non-null  object \n",
      " 4   entity_type         223898 non-null  object \n",
      " 5   name                223898 non-null  object \n",
      " 6   permalink           223898 non-null  object \n",
      " 7   category_code       221193 non-null  object \n",
      " 8   status              223898 non-null  object \n",
      " 9   founded_at          202601 non-null  object \n",
      " 10  description         175292 non-null  object \n",
      " 11  country_code        220161 non-null  object \n",
      " 12  last_investment_at  3185 non-null    object \n",
      " 13  first_funding_at    223811 non-null  object \n",
      " 14  last_funding_at     223811 non-null  object \n",
      " 15  funding_rounds      223898 non-null  int64  \n",
      " 16  funding_total_usd   223898 non-null  float64\n",
      " 17  first_milestone_at  182398 non-null  object \n",
      " 18  last_milestone_at   182398 non-null  object \n",
      " 19  milestones          223898 non-null  int64  \n",
      " 20  created_by          187444 non-null  object \n",
      " 21  funded_at           223669 non-null  object \n",
      " 22  funding_round_type  223898 non-null  object \n",
      " 23  raised_amount_usd   223898 non-null  float64\n",
      "dtypes: float64(2), int64(4), object(18)\n",
      "memory usage: 42.7+ MB\n"
     ]
    }
   ],
   "source": [
    "df2.info()"
   ]
  },
  {
   "cell_type": "code",
   "execution_count": 26,
   "metadata": {
    "execution": {
     "iopub.execute_input": "2020-11-04T03:37:57.349373Z",
     "iopub.status.busy": "2020-11-04T03:37:57.348140Z",
     "iopub.status.idle": "2020-11-04T03:37:57.351667Z",
     "shell.execute_reply": "2020-11-04T03:37:57.352125Z"
    },
    "papermill": {
     "duration": 0.074631,
     "end_time": "2020-11-04T03:37:57.352261",
     "exception": false,
     "start_time": "2020-11-04T03:37:57.277630",
     "status": "completed"
    },
    "tags": []
   },
   "outputs": [
    {
     "data": {
      "text/plain": [
       "223898"
      ]
     },
     "execution_count": 26,
     "metadata": {},
     "output_type": "execute_result"
    }
   ],
   "source": [
    "len(df2)"
   ]
  },
  {
   "cell_type": "code",
   "execution_count": 27,
   "metadata": {
    "execution": {
     "iopub.execute_input": "2020-11-04T03:37:57.498429Z",
     "iopub.status.busy": "2020-11-04T03:37:57.497645Z",
     "iopub.status.idle": "2020-11-04T03:37:57.857887Z",
     "shell.execute_reply": "2020-11-04T03:37:57.857383Z"
    },
    "papermill": {
     "duration": 0.434045,
     "end_time": "2020-11-04T03:37:57.857997",
     "exception": false,
     "start_time": "2020-11-04T03:37:57.423952",
     "status": "completed"
    },
    "tags": []
   },
   "outputs": [
    {
     "data": {
      "text/plain": [
       "id                         0\n",
       "funding_round_id           0\n",
       "funded_object_id           0\n",
       "investor_object_id         0\n",
       "entity_type                0\n",
       "name                       0\n",
       "permalink                  0\n",
       "category_code           2705\n",
       "status                     0\n",
       "founded_at             21297\n",
       "description            48606\n",
       "country_code            3737\n",
       "last_investment_at    220713\n",
       "first_funding_at          87\n",
       "last_funding_at           87\n",
       "funding_rounds             0\n",
       "funding_total_usd          0\n",
       "first_milestone_at     41500\n",
       "last_milestone_at      41500\n",
       "milestones                 0\n",
       "created_by             36454\n",
       "funded_at                229\n",
       "funding_round_type         0\n",
       "raised_amount_usd          0\n",
       "dtype: int64"
      ]
     },
     "execution_count": 27,
     "metadata": {},
     "output_type": "execute_result"
    }
   ],
   "source": [
    "df2.isna().sum()"
   ]
  },
  {
   "cell_type": "code",
   "execution_count": 28,
   "metadata": {
    "execution": {
     "iopub.execute_input": "2020-11-04T03:37:57.996060Z",
     "iopub.status.busy": "2020-11-04T03:37:57.995312Z",
     "iopub.status.idle": "2020-11-04T03:37:58.367084Z",
     "shell.execute_reply": "2020-11-04T03:37:58.366130Z"
    },
    "papermill": {
     "duration": 0.44166,
     "end_time": "2020-11-04T03:37:58.367221",
     "exception": false,
     "start_time": "2020-11-04T03:37:57.925561",
     "status": "completed"
    },
    "tags": []
   },
   "outputs": [
    {
     "data": {
      "text/plain": [
       "id                     0.00\n",
       "funding_round_id       0.00\n",
       "funded_object_id       0.00\n",
       "investor_object_id     0.00\n",
       "entity_type            0.00\n",
       "name                   0.00\n",
       "permalink              0.00\n",
       "category_code          1.21\n",
       "status                 0.00\n",
       "founded_at             9.51\n",
       "description           21.71\n",
       "country_code           1.67\n",
       "last_investment_at    98.58\n",
       "first_funding_at       0.04\n",
       "last_funding_at        0.04\n",
       "funding_rounds         0.00\n",
       "funding_total_usd      0.00\n",
       "first_milestone_at    18.54\n",
       "last_milestone_at     18.54\n",
       "milestones             0.00\n",
       "created_by            16.28\n",
       "funded_at              0.10\n",
       "funding_round_type     0.00\n",
       "raised_amount_usd      0.00\n",
       "dtype: float64"
      ]
     },
     "execution_count": 28,
     "metadata": {},
     "output_type": "execute_result"
    }
   ],
   "source": [
    "# Check in percentage the missing data\n",
    "# summing up the missing values (column-wise) and displaying fraction of NaNs\n",
    "round(100*(df2.isnull().sum()/len(df2.index)), 2)"
   ]
  },
  {
   "cell_type": "code",
   "execution_count": 29,
   "metadata": {
    "execution": {
     "iopub.execute_input": "2020-11-04T03:37:58.508812Z",
     "iopub.status.busy": "2020-11-04T03:37:58.507743Z",
     "iopub.status.idle": "2020-11-04T03:37:58.553515Z",
     "shell.execute_reply": "2020-11-04T03:37:58.552986Z"
    },
    "papermill": {
     "duration": 0.120102,
     "end_time": "2020-11-04T03:37:58.553636",
     "exception": false,
     "start_time": "2020-11-04T03:37:58.433534",
     "status": "completed"
    },
    "tags": []
   },
   "outputs": [],
   "source": [
    "df2.drop(['created_by', 'first_milestone_at', 'last_milestone_at', 'last_investment_at'], axis='columns', inplace=True)"
   ]
  },
  {
   "cell_type": "code",
   "execution_count": 30,
   "metadata": {
    "execution": {
     "iopub.execute_input": "2020-11-04T03:37:58.711073Z",
     "iopub.status.busy": "2020-11-04T03:37:58.710442Z",
     "iopub.status.idle": "2020-11-04T03:37:58.716915Z",
     "shell.execute_reply": "2020-11-04T03:37:58.716381Z"
    },
    "papermill": {
     "duration": 0.096692,
     "end_time": "2020-11-04T03:37:58.717015",
     "exception": false,
     "start_time": "2020-11-04T03:37:58.620323",
     "status": "completed"
    },
    "tags": []
   },
   "outputs": [
    {
     "data": {
      "text/html": [
       "<div>\n",
       "<style scoped>\n",
       "    .dataframe tbody tr th:only-of-type {\n",
       "        vertical-align: middle;\n",
       "    }\n",
       "\n",
       "    .dataframe tbody tr th {\n",
       "        vertical-align: top;\n",
       "    }\n",
       "\n",
       "    .dataframe thead th {\n",
       "        text-align: right;\n",
       "    }\n",
       "</style>\n",
       "<table border=\"1\" class=\"dataframe\">\n",
       "  <thead>\n",
       "    <tr style=\"text-align: right;\">\n",
       "      <th></th>\n",
       "      <th>id</th>\n",
       "      <th>funding_round_id</th>\n",
       "      <th>funded_object_id</th>\n",
       "      <th>investor_object_id</th>\n",
       "      <th>entity_type</th>\n",
       "      <th>name</th>\n",
       "      <th>permalink</th>\n",
       "      <th>category_code</th>\n",
       "      <th>status</th>\n",
       "      <th>founded_at</th>\n",
       "      <th>description</th>\n",
       "      <th>country_code</th>\n",
       "      <th>first_funding_at</th>\n",
       "      <th>last_funding_at</th>\n",
       "      <th>funding_rounds</th>\n",
       "      <th>funding_total_usd</th>\n",
       "      <th>milestones</th>\n",
       "      <th>funded_at</th>\n",
       "      <th>funding_round_type</th>\n",
       "      <th>raised_amount_usd</th>\n",
       "    </tr>\n",
       "  </thead>\n",
       "  <tbody>\n",
       "    <tr>\n",
       "      <th>0</th>\n",
       "      <td>1</td>\n",
       "      <td>1</td>\n",
       "      <td>c:4</td>\n",
       "      <td>f:1</td>\n",
       "      <td>Company</td>\n",
       "      <td>Digg</td>\n",
       "      <td>/company/digg</td>\n",
       "      <td>news</td>\n",
       "      <td>acquired</td>\n",
       "      <td>2004-10-11</td>\n",
       "      <td>user driven social content website</td>\n",
       "      <td>USA</td>\n",
       "      <td>2005-10-01</td>\n",
       "      <td>2011-07-12</td>\n",
       "      <td>4</td>\n",
       "      <td>45000000.0</td>\n",
       "      <td>8</td>\n",
       "      <td>2006-12-01</td>\n",
       "      <td>series-b</td>\n",
       "      <td>8500000.0</td>\n",
       "    </tr>\n",
       "    <tr>\n",
       "      <th>1</th>\n",
       "      <td>1</td>\n",
       "      <td>1</td>\n",
       "      <td>c:4</td>\n",
       "      <td>f:1</td>\n",
       "      <td>Company</td>\n",
       "      <td>Digg</td>\n",
       "      <td>/company/digg</td>\n",
       "      <td>news</td>\n",
       "      <td>acquired</td>\n",
       "      <td>2004-10-11</td>\n",
       "      <td>user driven social content website</td>\n",
       "      <td>USA</td>\n",
       "      <td>2005-10-01</td>\n",
       "      <td>2011-07-12</td>\n",
       "      <td>4</td>\n",
       "      <td>45000000.0</td>\n",
       "      <td>8</td>\n",
       "      <td>2005-10-01</td>\n",
       "      <td>series-a</td>\n",
       "      <td>2800000.0</td>\n",
       "    </tr>\n",
       "    <tr>\n",
       "      <th>2</th>\n",
       "      <td>1</td>\n",
       "      <td>1</td>\n",
       "      <td>c:4</td>\n",
       "      <td>f:1</td>\n",
       "      <td>Company</td>\n",
       "      <td>Digg</td>\n",
       "      <td>/company/digg</td>\n",
       "      <td>news</td>\n",
       "      <td>acquired</td>\n",
       "      <td>2004-10-11</td>\n",
       "      <td>user driven social content website</td>\n",
       "      <td>USA</td>\n",
       "      <td>2005-10-01</td>\n",
       "      <td>2011-07-12</td>\n",
       "      <td>4</td>\n",
       "      <td>45000000.0</td>\n",
       "      <td>8</td>\n",
       "      <td>2008-09-24</td>\n",
       "      <td>series-c+</td>\n",
       "      <td>28700000.0</td>\n",
       "    </tr>\n",
       "    <tr>\n",
       "      <th>3</th>\n",
       "      <td>1</td>\n",
       "      <td>1</td>\n",
       "      <td>c:4</td>\n",
       "      <td>f:1</td>\n",
       "      <td>Company</td>\n",
       "      <td>Digg</td>\n",
       "      <td>/company/digg</td>\n",
       "      <td>news</td>\n",
       "      <td>acquired</td>\n",
       "      <td>2004-10-11</td>\n",
       "      <td>user driven social content website</td>\n",
       "      <td>USA</td>\n",
       "      <td>2005-10-01</td>\n",
       "      <td>2011-07-12</td>\n",
       "      <td>4</td>\n",
       "      <td>45000000.0</td>\n",
       "      <td>8</td>\n",
       "      <td>2011-07-12</td>\n",
       "      <td>series-c+</td>\n",
       "      <td>5000000.0</td>\n",
       "    </tr>\n",
       "    <tr>\n",
       "      <th>4</th>\n",
       "      <td>2</td>\n",
       "      <td>1</td>\n",
       "      <td>c:4</td>\n",
       "      <td>f:2</td>\n",
       "      <td>Company</td>\n",
       "      <td>Digg</td>\n",
       "      <td>/company/digg</td>\n",
       "      <td>news</td>\n",
       "      <td>acquired</td>\n",
       "      <td>2004-10-11</td>\n",
       "      <td>user driven social content website</td>\n",
       "      <td>USA</td>\n",
       "      <td>2005-10-01</td>\n",
       "      <td>2011-07-12</td>\n",
       "      <td>4</td>\n",
       "      <td>45000000.0</td>\n",
       "      <td>8</td>\n",
       "      <td>2006-12-01</td>\n",
       "      <td>series-b</td>\n",
       "      <td>8500000.0</td>\n",
       "    </tr>\n",
       "  </tbody>\n",
       "</table>\n",
       "</div>"
      ],
      "text/plain": [
       "   id  funding_round_id funded_object_id investor_object_id entity_type  name  \\\n",
       "0   1                 1              c:4                f:1     Company  Digg   \n",
       "1   1                 1              c:4                f:1     Company  Digg   \n",
       "2   1                 1              c:4                f:1     Company  Digg   \n",
       "3   1                 1              c:4                f:1     Company  Digg   \n",
       "4   2                 1              c:4                f:2     Company  Digg   \n",
       "\n",
       "       permalink category_code    status  founded_at  \\\n",
       "0  /company/digg          news  acquired  2004-10-11   \n",
       "1  /company/digg          news  acquired  2004-10-11   \n",
       "2  /company/digg          news  acquired  2004-10-11   \n",
       "3  /company/digg          news  acquired  2004-10-11   \n",
       "4  /company/digg          news  acquired  2004-10-11   \n",
       "\n",
       "                          description country_code first_funding_at  \\\n",
       "0  user driven social content website          USA       2005-10-01   \n",
       "1  user driven social content website          USA       2005-10-01   \n",
       "2  user driven social content website          USA       2005-10-01   \n",
       "3  user driven social content website          USA       2005-10-01   \n",
       "4  user driven social content website          USA       2005-10-01   \n",
       "\n",
       "  last_funding_at  funding_rounds  funding_total_usd  milestones   funded_at  \\\n",
       "0      2011-07-12               4         45000000.0           8  2006-12-01   \n",
       "1      2011-07-12               4         45000000.0           8  2005-10-01   \n",
       "2      2011-07-12               4         45000000.0           8  2008-09-24   \n",
       "3      2011-07-12               4         45000000.0           8  2011-07-12   \n",
       "4      2011-07-12               4         45000000.0           8  2006-12-01   \n",
       "\n",
       "  funding_round_type  raised_amount_usd  \n",
       "0           series-b          8500000.0  \n",
       "1           series-a          2800000.0  \n",
       "2          series-c+         28700000.0  \n",
       "3          series-c+          5000000.0  \n",
       "4           series-b          8500000.0  "
      ]
     },
     "execution_count": 30,
     "metadata": {},
     "output_type": "execute_result"
    }
   ],
   "source": [
    "df2.head()"
   ]
  },
  {
   "cell_type": "code",
   "execution_count": 31,
   "metadata": {
    "execution": {
     "iopub.execute_input": "2020-11-04T03:37:58.907678Z",
     "iopub.status.busy": "2020-11-04T03:37:58.905594Z",
     "iopub.status.idle": "2020-11-04T03:37:58.919789Z",
     "shell.execute_reply": "2020-11-04T03:37:58.919071Z"
    },
    "papermill": {
     "duration": 0.135282,
     "end_time": "2020-11-04T03:37:58.919930",
     "exception": false,
     "start_time": "2020-11-04T03:37:58.784648",
     "status": "completed"
    },
    "tags": []
   },
   "outputs": [
    {
     "data": {
      "text/plain": [
       "software            28216\n",
       "biotech             24386\n",
       "enterprise          18361\n",
       "mobile              17528\n",
       "web                 16203\n",
       "advertising         13320\n",
       "ecommerce           10960\n",
       "cleantech            9866\n",
       "analytics            7642\n",
       "games_video          7439\n",
       "semiconductor        7249\n",
       "hardware             6989\n",
       "medical              6169\n",
       "network_hosting      4718\n",
       "social               4226\n",
       "finance              4173\n",
       "security             3908\n",
       "education            2991\n",
       "health               2552\n",
       "search               2462\n",
       "messaging            1936\n",
       "other                1816\n",
       "public_relations     1703\n",
       "news                 1682\n",
       "manufacturing        1604\n",
       "fashion              1496\n",
       "travel               1411\n",
       "music                1384\n",
       "nanotech             1277\n",
       "hospitality          1229\n",
       "automotive            997\n",
       "consulting            973\n",
       "transportation        928\n",
       "photo_video           881\n",
       "real_estate           800\n",
       "sports                477\n",
       "nonprofit             357\n",
       "design                296\n",
       "legal                 288\n",
       "pets                  152\n",
       "local                 125\n",
       "government             23\n",
       "Name: category_code, dtype: int64"
      ]
     },
     "execution_count": 31,
     "metadata": {},
     "output_type": "execute_result"
    }
   ],
   "source": [
    "df2['category_code'].value_counts()"
   ]
  },
  {
   "cell_type": "code",
   "execution_count": 32,
   "metadata": {
    "execution": {
     "iopub.execute_input": "2020-11-04T03:37:59.163670Z",
     "iopub.status.busy": "2020-11-04T03:37:59.160848Z",
     "iopub.status.idle": "2020-11-04T03:37:59.595744Z",
     "shell.execute_reply": "2020-11-04T03:37:59.595019Z"
    },
    "papermill": {
     "duration": 0.563754,
     "end_time": "2020-11-04T03:37:59.595875",
     "exception": false,
     "start_time": "2020-11-04T03:37:59.032121",
     "status": "completed"
    },
    "tags": []
   },
   "outputs": [
    {
     "data": {
      "text/plain": [
       "id                     0.00\n",
       "funding_round_id       0.00\n",
       "funded_object_id       0.00\n",
       "investor_object_id     0.00\n",
       "entity_type            0.00\n",
       "name                   0.00\n",
       "permalink              0.00\n",
       "category_code          1.21\n",
       "status                 0.00\n",
       "founded_at             9.51\n",
       "description           21.71\n",
       "country_code           1.67\n",
       "first_funding_at       0.04\n",
       "last_funding_at        0.04\n",
       "funding_rounds         0.00\n",
       "funding_total_usd      0.00\n",
       "milestones             0.00\n",
       "funded_at              0.10\n",
       "funding_round_type     0.00\n",
       "raised_amount_usd      0.00\n",
       "dtype: float64"
      ]
     },
     "execution_count": 32,
     "metadata": {},
     "output_type": "execute_result"
    }
   ],
   "source": [
    "# Check in percentage the missing data\n",
    "# summing up the missing values (column-wise) and displaying fraction of NaNs\n",
    "round(100*(df2.isnull().sum()/len(df2.index)), 2)"
   ]
  },
  {
   "cell_type": "code",
   "execution_count": 33,
   "metadata": {
    "execution": {
     "iopub.execute_input": "2020-11-04T03:37:59.854576Z",
     "iopub.status.busy": "2020-11-04T03:37:59.812460Z",
     "iopub.status.idle": "2020-11-04T03:37:59.934188Z",
     "shell.execute_reply": "2020-11-04T03:37:59.934780Z"
    },
    "papermill": {
     "duration": 0.250347,
     "end_time": "2020-11-04T03:37:59.934952",
     "exception": false,
     "start_time": "2020-11-04T03:37:59.684605",
     "status": "completed"
    },
    "tags": []
   },
   "outputs": [],
   "source": [
    "#Dropping rows based on null columns\n",
    "df2 = df2[~(df2['country_code'].isnull() | df2['description'].isnull() | df2['funded_at'].isnull() | df2['founded_at'].isnull())]"
   ]
  },
  {
   "cell_type": "code",
   "execution_count": 34,
   "metadata": {
    "execution": {
     "iopub.execute_input": "2020-11-04T03:38:00.339902Z",
     "iopub.status.busy": "2020-11-04T03:38:00.338854Z",
     "iopub.status.idle": "2020-11-04T03:38:00.352345Z",
     "shell.execute_reply": "2020-11-04T03:38:00.352832Z"
    },
    "papermill": {
     "duration": 0.325285,
     "end_time": "2020-11-04T03:38:00.352960",
     "exception": false,
     "start_time": "2020-11-04T03:38:00.027675",
     "status": "completed"
    },
    "tags": []
   },
   "outputs": [
    {
     "data": {
      "text/plain": [
       "id                      0\n",
       "funding_round_id        0\n",
       "funded_object_id        0\n",
       "investor_object_id      0\n",
       "entity_type             0\n",
       "name                    0\n",
       "permalink               0\n",
       "category_code         269\n",
       "status                  0\n",
       "founded_at              0\n",
       "description             0\n",
       "country_code            0\n",
       "first_funding_at        0\n",
       "last_funding_at         0\n",
       "funding_rounds          0\n",
       "funding_total_usd       0\n",
       "milestones              0\n",
       "funded_at               0\n",
       "funding_round_type      0\n",
       "raised_amount_usd       0\n",
       "dtype: int64"
      ]
     },
     "execution_count": 34,
     "metadata": {},
     "output_type": "execute_result"
    }
   ],
   "source": [
    "df2.isna().sum()"
   ]
  },
  {
   "cell_type": "code",
   "execution_count": 35,
   "metadata": {
    "execution": {
     "iopub.execute_input": "2020-11-04T03:38:00.544901Z",
     "iopub.status.busy": "2020-11-04T03:38:00.543832Z",
     "iopub.status.idle": "2020-11-04T03:38:00.586594Z",
     "shell.execute_reply": "2020-11-04T03:38:00.586046Z"
    },
    "papermill": {
     "duration": 0.165992,
     "end_time": "2020-11-04T03:38:00.586707",
     "exception": false,
     "start_time": "2020-11-04T03:38:00.420715",
     "status": "completed"
    },
    "tags": []
   },
   "outputs": [],
   "source": [
    "df2 = df2[~(df2['category_code'].isnull())]"
   ]
  },
  {
   "cell_type": "code",
   "execution_count": 36,
   "metadata": {
    "execution": {
     "iopub.execute_input": "2020-11-04T03:38:00.938738Z",
     "iopub.status.busy": "2020-11-04T03:38:00.937864Z",
     "iopub.status.idle": "2020-11-04T03:38:00.948085Z",
     "shell.execute_reply": "2020-11-04T03:38:00.947616Z"
    },
    "papermill": {
     "duration": 0.293438,
     "end_time": "2020-11-04T03:38:00.948212",
     "exception": false,
     "start_time": "2020-11-04T03:38:00.654774",
     "status": "completed"
    },
    "tags": []
   },
   "outputs": [
    {
     "data": {
      "text/plain": [
       "id                    0\n",
       "funding_round_id      0\n",
       "funded_object_id      0\n",
       "investor_object_id    0\n",
       "entity_type           0\n",
       "name                  0\n",
       "permalink             0\n",
       "category_code         0\n",
       "status                0\n",
       "founded_at            0\n",
       "description           0\n",
       "country_code          0\n",
       "first_funding_at      0\n",
       "last_funding_at       0\n",
       "funding_rounds        0\n",
       "funding_total_usd     0\n",
       "milestones            0\n",
       "funded_at             0\n",
       "funding_round_type    0\n",
       "raised_amount_usd     0\n",
       "dtype: int64"
      ]
     },
     "execution_count": 36,
     "metadata": {},
     "output_type": "execute_result"
    }
   ],
   "source": [
    "df2.isna().sum()"
   ]
  },
  {
   "cell_type": "code",
   "execution_count": 37,
   "metadata": {
    "execution": {
     "iopub.execute_input": "2020-11-04T03:38:01.122396Z",
     "iopub.status.busy": "2020-11-04T03:38:01.121545Z",
     "iopub.status.idle": "2020-11-04T03:38:01.128436Z",
     "shell.execute_reply": "2020-11-04T03:38:01.127918Z"
    },
    "papermill": {
     "duration": 0.111639,
     "end_time": "2020-11-04T03:38:01.128533",
     "exception": false,
     "start_time": "2020-11-04T03:38:01.016894",
     "status": "completed"
    },
    "tags": []
   },
   "outputs": [
    {
     "data": {
      "text/plain": [
       "operating    128167\n",
       "acquired      23269\n",
       "ipo            6943\n",
       "closed         4878\n",
       "Name: status, dtype: int64"
      ]
     },
     "execution_count": 37,
     "metadata": {},
     "output_type": "execute_result"
    }
   ],
   "source": [
    "df2['status'].value_counts()"
   ]
  },
  {
   "cell_type": "code",
   "execution_count": 38,
   "metadata": {
    "execution": {
     "iopub.execute_input": "2020-11-04T03:38:01.272769Z",
     "iopub.status.busy": "2020-11-04T03:38:01.271945Z",
     "iopub.status.idle": "2020-11-04T03:38:01.537439Z",
     "shell.execute_reply": "2020-11-04T03:38:01.537881Z"
    },
    "papermill": {
     "duration": 0.340485,
     "end_time": "2020-11-04T03:38:01.538018",
     "exception": false,
     "start_time": "2020-11-04T03:38:01.197533",
     "status": "completed"
    },
    "tags": []
   },
   "outputs": [
    {
     "data": {
      "text/plain": [
       "291"
      ]
     },
     "execution_count": 38,
     "metadata": {},
     "output_type": "execute_result"
    }
   ],
   "source": [
    "#Identify duplicates records in the data\n",
    "dupes=df2.duplicated()\n",
    "sum(dupes)"
   ]
  },
  {
   "cell_type": "code",
   "execution_count": 39,
   "metadata": {
    "execution": {
     "iopub.execute_input": "2020-11-04T03:38:01.683084Z",
     "iopub.status.busy": "2020-11-04T03:38:01.682138Z",
     "iopub.status.idle": "2020-11-04T03:38:01.958893Z",
     "shell.execute_reply": "2020-11-04T03:38:01.958349Z"
    },
    "papermill": {
     "duration": 0.351297,
     "end_time": "2020-11-04T03:38:01.958998",
     "exception": false,
     "start_time": "2020-11-04T03:38:01.607701",
     "status": "completed"
    },
    "tags": []
   },
   "outputs": [],
   "source": [
    "df2=df2.drop_duplicates()"
   ]
  },
  {
   "cell_type": "code",
   "execution_count": 40,
   "metadata": {
    "execution": {
     "iopub.execute_input": "2020-11-04T03:38:02.105351Z",
     "iopub.status.busy": "2020-11-04T03:38:02.104456Z",
     "iopub.status.idle": "2020-11-04T03:38:02.362340Z",
     "shell.execute_reply": "2020-11-04T03:38:02.362820Z"
    },
    "papermill": {
     "duration": 0.333576,
     "end_time": "2020-11-04T03:38:02.362951",
     "exception": false,
     "start_time": "2020-11-04T03:38:02.029375",
     "status": "completed"
    },
    "tags": []
   },
   "outputs": [
    {
     "data": {
      "text/plain": [
       "0"
      ]
     },
     "execution_count": 40,
     "metadata": {},
     "output_type": "execute_result"
    }
   ],
   "source": [
    "#Identify duplicates records in the data\n",
    "dupes2=df2.duplicated()\n",
    "sum(dupes2)"
   ]
  },
  {
   "cell_type": "markdown",
   "metadata": {
    "papermill": {
     "duration": 0.070439,
     "end_time": "2020-11-04T03:38:02.503955",
     "exception": false,
     "start_time": "2020-11-04T03:38:02.433516",
     "status": "completed"
    },
    "tags": []
   },
   "source": [
    "# **LETS DO SOME ANALYSIS**"
   ]
  },
  {
   "cell_type": "code",
   "execution_count": 41,
   "metadata": {
    "execution": {
     "iopub.execute_input": "2020-11-04T03:38:02.737617Z",
     "iopub.status.busy": "2020-11-04T03:38:02.721254Z",
     "iopub.status.idle": "2020-11-04T03:38:02.859240Z",
     "shell.execute_reply": "2020-11-04T03:38:02.859701Z"
    },
    "papermill": {
     "duration": 0.268928,
     "end_time": "2020-11-04T03:38:02.859841",
     "exception": false,
     "start_time": "2020-11-04T03:38:02.590913",
     "status": "completed"
    },
    "tags": []
   },
   "outputs": [
    {
     "data": {
      "image/png": "[encoded data removed]",
      "text/plain": [
       "<Figure size 720x720 with 1 Axes>"
      ]
     },
     "metadata": {},
     "output_type": "display_data"
    }
   ],
   "source": [
    "# Pie chart, where the slices will be ordered and plotted counter-clockwise:\n",
    "plt.rcParams['figure.figsize'] = 10,10\n",
    "labels = df2['status'].value_counts().index.tolist()\n",
    "sizes = df2['status'].value_counts().tolist()\n",
    "explode = (0, 0.2, 0, 0)\n",
    "\n",
    "fig1, ax1 = plt.subplots()\n",
    "ax1.pie(sizes, explode=explode, labels=labels, autopct='%1.1f%%',shadow=True, startangle=90)\n",
    "ax1.axis('equal')\n",
    "plt.title(\"What is start up companies current status\", fontdict=None, position= [0.48,1], size = 'x-large')\n",
    "\n",
    "plt.show()"
   ]
  },
  {
   "cell_type": "markdown",
   "metadata": {
    "papermill": {
     "duration": 0.073612,
     "end_time": "2020-11-04T03:38:03.006587",
     "exception": false,
     "start_time": "2020-11-04T03:38:02.932975",
     "status": "completed"
    },
    "tags": []
   },
   "source": [
    "Most of company (78.5 %) in this dataset is operating,\n",
    "\n",
    "and around 3.0 % company is already closed."
   ]
  },
  {
   "cell_type": "code",
   "execution_count": 42,
   "metadata": {
    "execution": {
     "iopub.execute_input": "2020-11-04T03:38:03.161606Z",
     "iopub.status.busy": "2020-11-04T03:38:03.160760Z",
     "iopub.status.idle": "2020-11-04T03:38:03.164632Z",
     "shell.execute_reply": "2020-11-04T03:38:03.164142Z"
    },
    "papermill": {
     "duration": 0.08671,
     "end_time": "2020-11-04T03:38:03.164730",
     "exception": false,
     "start_time": "2020-11-04T03:38:03.078020",
     "status": "completed"
    },
    "tags": []
   },
   "outputs": [
    {
     "data": {
      "text/plain": [
       "43"
      ]
     },
     "execution_count": 42,
     "metadata": {},
     "output_type": "execute_result"
    }
   ],
   "source": [
    "len(df['category_code'].unique())"
   ]
  },
  {
   "cell_type": "code",
   "execution_count": 43,
   "metadata": {
    "execution": {
     "iopub.execute_input": "2020-11-04T03:38:03.345357Z",
     "iopub.status.busy": "2020-11-04T03:38:03.344341Z",
     "iopub.status.idle": "2020-11-04T03:38:03.350999Z",
     "shell.execute_reply": "2020-11-04T03:38:03.351454Z"
    },
    "papermill": {
     "duration": 0.114857,
     "end_time": "2020-11-04T03:38:03.351579",
     "exception": false,
     "start_time": "2020-11-04T03:38:03.236722",
     "status": "completed"
    },
    "tags": []
   },
   "outputs": [
    {
     "data": {
      "text/plain": [
       "software       21959\n",
       "enterprise     16191\n",
       "mobile         14200\n",
       "web            12447\n",
       "advertising    11518\n",
       "Name: category_code, dtype: int64"
      ]
     },
     "execution_count": 43,
     "metadata": {},
     "output_type": "execute_result"
    }
   ],
   "source": [
    "df2['category_code'].value_counts()[:5]"
   ]
  },
  {
   "cell_type": "markdown",
   "metadata": {
    "papermill": {
     "duration": 0.073091,
     "end_time": "2020-11-04T03:38:03.497071",
     "exception": false,
     "start_time": "2020-11-04T03:38:03.423980",
     "status": "completed"
    },
    "tags": []
   },
   "source": [
    "because we have around 43 categories of start up,\n",
    "\n",
    "Then just plot all   : )"
   ]
  },
  {
   "cell_type": "code",
   "execution_count": 44,
   "metadata": {
    "execution": {
     "iopub.execute_input": "2020-11-04T03:38:03.717472Z",
     "iopub.status.busy": "2020-11-04T03:38:03.683679Z",
     "iopub.status.idle": "2020-11-04T03:38:04.046977Z",
     "shell.execute_reply": "2020-11-04T03:38:04.047500Z"
    },
    "papermill": {
     "duration": 0.477982,
     "end_time": "2020-11-04T03:38:04.047639",
     "exception": false,
     "start_time": "2020-11-04T03:38:03.569657",
     "status": "completed"
    },
    "tags": []
   },
   "outputs": [
    {
     "data": {
      "image/png": "[encoded data removed]",
      "text/plain": [
       "<Figure size 1080x576 with 1 Axes>"
      ]
     },
     "metadata": {
      "needs_background": "light"
     },
     "output_type": "display_data"
    }
   ],
   "source": [
    "plt.rcParams['figure.figsize'] = 15,8\n",
    "\n",
    "height = df2['category_code'].value_counts()[:45].tolist()\n",
    "bars =  df2['category_code'].value_counts()[:45].index.tolist()\n",
    "y_pos = np.arange(len(bars))\n",
    "plt.bar(y_pos, height , width=0.7 ,color= ['c']+['paleturquoise']*14)\n",
    "plt.xticks(y_pos, bars)\n",
    "plt.xticks(rotation=90)\n",
    "plt.title(\"All Start-Up market category\", fontdict=None, position= [0.48,1.05], size = 'x-large')\n",
    "plt.show()"
   ]
  },
  {
   "cell_type": "markdown",
   "metadata": {
    "papermill": {
     "duration": 0.073918,
     "end_time": "2020-11-04T03:38:04.195823",
     "exception": false,
     "start_time": "2020-11-04T03:38:04.121905",
     "status": "completed"
    },
    "tags": []
   },
   "source": [
    "**Now lets look at the top 15 startup category market**"
   ]
  },
  {
   "cell_type": "code",
   "execution_count": 45,
   "metadata": {
    "execution": {
     "iopub.execute_input": "2020-11-04T03:38:04.423374Z",
     "iopub.status.busy": "2020-11-04T03:38:04.417917Z",
     "iopub.status.idle": "2020-11-04T03:38:04.606693Z",
     "shell.execute_reply": "2020-11-04T03:38:04.607194Z"
    },
    "papermill": {
     "duration": 0.337514,
     "end_time": "2020-11-04T03:38:04.607328",
     "exception": false,
     "start_time": "2020-11-04T03:38:04.269814",
     "status": "completed"
    },
    "tags": []
   },
   "outputs": [
    {
     "data": {
      "image/png": "[encoded data removed]",
      "text/plain": [
       "<Figure size 1080x576 with 1 Axes>"
      ]
     },
     "metadata": {
      "needs_background": "light"
     },
     "output_type": "display_data"
    }
   ],
   "source": [
    "plt.rcParams['figure.figsize'] = 15,8\n",
    "\n",
    "height = df2['category_code'].value_counts()[:15].tolist()\n",
    "bars =  df2['category_code'].value_counts()[:15].index.tolist()\n",
    "y_pos = np.arange(len(bars))\n",
    "plt.bar(y_pos, height , width=0.7 ,color= ['c']+['paleturquoise']*14)\n",
    "plt.xticks(y_pos, bars)\n",
    "plt.xticks(rotation=90)\n",
    "plt.title(\"Top 15 Start-Up market category\", fontdict=None, position= [0.48,1.05], size = 'x-large')\n",
    "plt.show()"
   ]
  },
  {
   "cell_type": "markdown",
   "metadata": {
    "papermill": {
     "duration": 0.075271,
     "end_time": "2020-11-04T03:38:04.758304",
     "exception": false,
     "start_time": "2020-11-04T03:38:04.683033",
     "status": "completed"
    },
    "tags": []
   },
   "source": [
    "Lets do something interesting"
   ]
  },
  {
   "cell_type": "code",
   "execution_count": 46,
   "metadata": {
    "execution": {
     "iopub.execute_input": "2020-11-04T03:38:05.042302Z",
     "iopub.status.busy": "2020-11-04T03:38:05.041309Z",
     "iopub.status.idle": "2020-11-04T03:38:05.054495Z",
     "shell.execute_reply": "2020-11-04T03:38:05.055321Z"
    },
    "papermill": {
     "duration": 0.221445,
     "end_time": "2020-11-04T03:38:05.055501",
     "exception": false,
     "start_time": "2020-11-04T03:38:04.834056",
     "status": "completed"
    },
    "tags": []
   },
   "outputs": [],
   "source": [
    "def count_word(df2, ref_col, liste):\n",
    "    keyword_count = dict()\n",
    "    for s in liste: keyword_count[s] = 0\n",
    "    for liste_keywords in df[ref_col].str.split('|'):        \n",
    "        if type(liste_keywords) == float and pd.isnull(liste_keywords): continue        \n",
    "        for s in [s for s in liste_keywords if s in liste]: \n",
    "            if pd.notnull(s): keyword_count[s] += 1\n",
    "    #______________________________________________________________________\n",
    "    # convert the dictionary in a list to sort the keywords by frequency\n",
    "    keyword_occurences = []\n",
    "    for k,v in keyword_count.items():\n",
    "        keyword_occurences.append([k,v])\n",
    "    keyword_occurences.sort(key = lambda x:x[1], reverse = True)\n",
    "    return keyword_occurences, keyword_count\n",
    "\n",
    "\n",
    "def makeCloud(Dict,name,color):\n",
    "    words = dict()\n",
    "\n",
    "    for s in Dict:\n",
    "        words[s[0]] = s[1]\n",
    "\n",
    "        wordcloud = WordCloud(width=1500, height=750, background_color=color, max_words=50, max_font_size=500, normalize_plurals=False)\n",
    "        wordcloud.generate_from_frequencies(words)\n",
    "\n",
    "\n",
    "    fig = plt.figure(figsize=(12, 8))\n",
    "    plt.title(name)\n",
    "    plt.imshow(wordcloud)\n",
    "    plt.axis('off')\n",
    "\n",
    "    plt.show()"
   ]
  },
  {
   "cell_type": "code",
   "execution_count": 47,
   "metadata": {
    "execution": {
     "iopub.execute_input": "2020-11-04T03:38:05.306982Z",
     "iopub.status.busy": "2020-11-04T03:38:05.306126Z",
     "iopub.status.idle": "2020-11-04T03:38:05.524846Z",
     "shell.execute_reply": "2020-11-04T03:38:05.523910Z"
    },
    "papermill": {
     "duration": 0.345251,
     "end_time": "2020-11-04T03:38:05.525011",
     "exception": false,
     "start_time": "2020-11-04T03:38:05.179760",
     "status": "completed"
    },
    "tags": []
   },
   "outputs": [],
   "source": [
    "set_keywords = set()\n",
    "for liste_keywords in df['category_code'].str.split('|').values:\n",
    "    if isinstance(liste_keywords, float): continue  # only happen if liste_keywords = NaN\n",
    "    set_keywords = set_keywords.union(liste_keywords)\n",
    "#_________________________\n"
   ]
  },
  {
   "cell_type": "code",
   "execution_count": 48,
   "metadata": {
    "execution": {
     "iopub.execute_input": "2020-11-04T03:38:05.760268Z",
     "iopub.status.busy": "2020-11-04T03:38:05.759432Z",
     "iopub.status.idle": "2020-11-04T03:38:06.123178Z",
     "shell.execute_reply": "2020-11-04T03:38:06.122532Z"
    },
    "papermill": {
     "duration": 0.489069,
     "end_time": "2020-11-04T03:38:06.123293",
     "exception": false,
     "start_time": "2020-11-04T03:38:05.634224",
     "status": "completed"
    },
    "tags": []
   },
   "outputs": [],
   "source": [
    "keyword_occurences, dum = count_word(df, 'category_code', set_keywords)"
   ]
  },
  {
   "cell_type": "code",
   "execution_count": 49,
   "metadata": {
    "execution": {
     "iopub.execute_input": "2020-11-04T03:38:06.449996Z",
     "iopub.status.busy": "2020-11-04T03:38:06.448971Z",
     "iopub.status.idle": "2020-11-04T03:38:10.928747Z",
     "shell.execute_reply": "2020-11-04T03:38:10.929398Z"
    },
    "papermill": {
     "duration": 4.608196,
     "end_time": "2020-11-04T03:38:10.929566",
     "exception": false,
     "start_time": "2020-11-04T03:38:06.321370",
     "status": "completed"
    },
    "tags": []
   },
   "outputs": [
    {
     "data": {
      "image/png": "[encoded data removed]",
      "text/plain": [
       "<Figure size 864x576 with 1 Axes>"
      ]
     },
     "metadata": {
      "needs_background": "light"
     },
     "output_type": "display_data"
    }
   ],
   "source": [
    "makeCloud(keyword_occurences[0:15],\"Keywords\",\"White\")"
   ]
  },
  {
   "cell_type": "markdown",
   "metadata": {
    "papermill": {
     "duration": 0.092286,
     "end_time": "2020-11-04T03:38:11.136078",
     "exception": false,
     "start_time": "2020-11-04T03:38:11.043792",
     "status": "completed"
    },
    "tags": []
   },
   "source": [
    "The most popular category is still about Software, Biotech & Web,\n",
    "\n",
    "It maybe because these 3 categories are easily to scalable ? "
   ]
  },
  {
   "cell_type": "code",
   "execution_count": 50,
   "metadata": {
    "execution": {
     "iopub.execute_input": "2020-11-04T03:38:11.375081Z",
     "iopub.status.busy": "2020-11-04T03:38:11.374329Z",
     "iopub.status.idle": "2020-11-04T03:38:11.415086Z",
     "shell.execute_reply": "2020-11-04T03:38:11.416521Z"
    },
    "papermill": {
     "duration": 0.174879,
     "end_time": "2020-11-04T03:38:11.416746",
     "exception": false,
     "start_time": "2020-11-04T03:38:11.241867",
     "status": "completed"
    },
    "tags": []
   },
   "outputs": [
    {
     "data": {
      "text/html": [
       "<div>\n",
       "<style scoped>\n",
       "    .dataframe tbody tr th:only-of-type {\n",
       "        vertical-align: middle;\n",
       "    }\n",
       "\n",
       "    .dataframe tbody tr th {\n",
       "        vertical-align: top;\n",
       "    }\n",
       "\n",
       "    .dataframe thead th {\n",
       "        text-align: right;\n",
       "    }\n",
       "</style>\n",
       "<table border=\"1\" class=\"dataframe\">\n",
       "  <thead>\n",
       "    <tr style=\"text-align: right;\">\n",
       "      <th></th>\n",
       "      <th>id</th>\n",
       "      <th>funding_round_id</th>\n",
       "      <th>funded_object_id</th>\n",
       "      <th>investor_object_id</th>\n",
       "      <th>entity_type</th>\n",
       "      <th>name</th>\n",
       "      <th>permalink</th>\n",
       "      <th>category_code</th>\n",
       "      <th>status</th>\n",
       "      <th>founded_at</th>\n",
       "      <th>description</th>\n",
       "      <th>country_code</th>\n",
       "      <th>first_funding_at</th>\n",
       "      <th>last_funding_at</th>\n",
       "      <th>funding_rounds</th>\n",
       "      <th>funding_total_usd</th>\n",
       "      <th>milestones</th>\n",
       "      <th>funded_at</th>\n",
       "      <th>funding_round_type</th>\n",
       "      <th>raised_amount_usd</th>\n",
       "    </tr>\n",
       "  </thead>\n",
       "  <tbody>\n",
       "    <tr>\n",
       "      <th>0</th>\n",
       "      <td>1</td>\n",
       "      <td>1</td>\n",
       "      <td>c:4</td>\n",
       "      <td>f:1</td>\n",
       "      <td>Company</td>\n",
       "      <td>Digg</td>\n",
       "      <td>/company/digg</td>\n",
       "      <td>news</td>\n",
       "      <td>acquired</td>\n",
       "      <td>2004-10-11</td>\n",
       "      <td>user driven social content website</td>\n",
       "      <td>USA</td>\n",
       "      <td>2005-10-01</td>\n",
       "      <td>2011-07-12</td>\n",
       "      <td>4</td>\n",
       "      <td>45000000.0</td>\n",
       "      <td>8</td>\n",
       "      <td>2006-12-01</td>\n",
       "      <td>series-b</td>\n",
       "      <td>8500000.0</td>\n",
       "    </tr>\n",
       "    <tr>\n",
       "      <th>1</th>\n",
       "      <td>1</td>\n",
       "      <td>1</td>\n",
       "      <td>c:4</td>\n",
       "      <td>f:1</td>\n",
       "      <td>Company</td>\n",
       "      <td>Digg</td>\n",
       "      <td>/company/digg</td>\n",
       "      <td>news</td>\n",
       "      <td>acquired</td>\n",
       "      <td>2004-10-11</td>\n",
       "      <td>user driven social content website</td>\n",
       "      <td>USA</td>\n",
       "      <td>2005-10-01</td>\n",
       "      <td>2011-07-12</td>\n",
       "      <td>4</td>\n",
       "      <td>45000000.0</td>\n",
       "      <td>8</td>\n",
       "      <td>2005-10-01</td>\n",
       "      <td>series-a</td>\n",
       "      <td>2800000.0</td>\n",
       "    </tr>\n",
       "    <tr>\n",
       "      <th>2</th>\n",
       "      <td>1</td>\n",
       "      <td>1</td>\n",
       "      <td>c:4</td>\n",
       "      <td>f:1</td>\n",
       "      <td>Company</td>\n",
       "      <td>Digg</td>\n",
       "      <td>/company/digg</td>\n",
       "      <td>news</td>\n",
       "      <td>acquired</td>\n",
       "      <td>2004-10-11</td>\n",
       "      <td>user driven social content website</td>\n",
       "      <td>USA</td>\n",
       "      <td>2005-10-01</td>\n",
       "      <td>2011-07-12</td>\n",
       "      <td>4</td>\n",
       "      <td>45000000.0</td>\n",
       "      <td>8</td>\n",
       "      <td>2008-09-24</td>\n",
       "      <td>series-c+</td>\n",
       "      <td>28700000.0</td>\n",
       "    </tr>\n",
       "    <tr>\n",
       "      <th>3</th>\n",
       "      <td>1</td>\n",
       "      <td>1</td>\n",
       "      <td>c:4</td>\n",
       "      <td>f:1</td>\n",
       "      <td>Company</td>\n",
       "      <td>Digg</td>\n",
       "      <td>/company/digg</td>\n",
       "      <td>news</td>\n",
       "      <td>acquired</td>\n",
       "      <td>2004-10-11</td>\n",
       "      <td>user driven social content website</td>\n",
       "      <td>USA</td>\n",
       "      <td>2005-10-01</td>\n",
       "      <td>2011-07-12</td>\n",
       "      <td>4</td>\n",
       "      <td>45000000.0</td>\n",
       "      <td>8</td>\n",
       "      <td>2011-07-12</td>\n",
       "      <td>series-c+</td>\n",
       "      <td>5000000.0</td>\n",
       "    </tr>\n",
       "    <tr>\n",
       "      <th>4</th>\n",
       "      <td>2</td>\n",
       "      <td>1</td>\n",
       "      <td>c:4</td>\n",
       "      <td>f:2</td>\n",
       "      <td>Company</td>\n",
       "      <td>Digg</td>\n",
       "      <td>/company/digg</td>\n",
       "      <td>news</td>\n",
       "      <td>acquired</td>\n",
       "      <td>2004-10-11</td>\n",
       "      <td>user driven social content website</td>\n",
       "      <td>USA</td>\n",
       "      <td>2005-10-01</td>\n",
       "      <td>2011-07-12</td>\n",
       "      <td>4</td>\n",
       "      <td>45000000.0</td>\n",
       "      <td>8</td>\n",
       "      <td>2006-12-01</td>\n",
       "      <td>series-b</td>\n",
       "      <td>8500000.0</td>\n",
       "    </tr>\n",
       "  </tbody>\n",
       "</table>\n",
       "</div>"
      ],
      "text/plain": [
       "   id  funding_round_id funded_object_id investor_object_id entity_type  name  \\\n",
       "0   1                 1              c:4                f:1     Company  Digg   \n",
       "1   1                 1              c:4                f:1     Company  Digg   \n",
       "2   1                 1              c:4                f:1     Company  Digg   \n",
       "3   1                 1              c:4                f:1     Company  Digg   \n",
       "4   2                 1              c:4                f:2     Company  Digg   \n",
       "\n",
       "       permalink category_code    status  founded_at  \\\n",
       "0  /company/digg          news  acquired  2004-10-11   \n",
       "1  /company/digg          news  acquired  2004-10-11   \n",
       "2  /company/digg          news  acquired  2004-10-11   \n",
       "3  /company/digg          news  acquired  2004-10-11   \n",
       "4  /company/digg          news  acquired  2004-10-11   \n",
       "\n",
       "                          description country_code first_funding_at  \\\n",
       "0  user driven social content website          USA       2005-10-01   \n",
       "1  user driven social content website          USA       2005-10-01   \n",
       "2  user driven social content website          USA       2005-10-01   \n",
       "3  user driven social content website          USA       2005-10-01   \n",
       "4  user driven social content website          USA       2005-10-01   \n",
       "\n",
       "  last_funding_at  funding_rounds  funding_total_usd  milestones   funded_at  \\\n",
       "0      2011-07-12               4         45000000.0           8  2006-12-01   \n",
       "1      2011-07-12               4         45000000.0           8  2005-10-01   \n",
       "2      2011-07-12               4         45000000.0           8  2008-09-24   \n",
       "3      2011-07-12               4         45000000.0           8  2011-07-12   \n",
       "4      2011-07-12               4         45000000.0           8  2006-12-01   \n",
       "\n",
       "  funding_round_type  raised_amount_usd  \n",
       "0           series-b          8500000.0  \n",
       "1           series-a          2800000.0  \n",
       "2          series-c+         28700000.0  \n",
       "3          series-c+          5000000.0  \n",
       "4           series-b          8500000.0  "
      ]
     },
     "execution_count": 50,
     "metadata": {},
     "output_type": "execute_result"
    }
   ],
   "source": [
    "df2.head()"
   ]
  },
  {
   "cell_type": "markdown",
   "metadata": {
    "papermill": {
     "duration": 0.079651,
     "end_time": "2020-11-04T03:38:11.602538",
     "exception": false,
     "start_time": "2020-11-04T03:38:11.522887",
     "status": "completed"
    },
    "tags": []
   },
   "source": [
    "**TOTAL FUNDING USD**"
   ]
  },
  {
   "cell_type": "code",
   "execution_count": 51,
   "metadata": {
    "execution": {
     "iopub.execute_input": "2020-11-04T03:38:11.769338Z",
     "iopub.status.busy": "2020-11-04T03:38:11.768709Z",
     "iopub.status.idle": "2020-11-04T03:38:11.774471Z",
     "shell.execute_reply": "2020-11-04T03:38:11.773874Z"
    },
    "papermill": {
     "duration": 0.091143,
     "end_time": "2020-11-04T03:38:11.774578",
     "exception": false,
     "start_time": "2020-11-04T03:38:11.683435",
     "status": "completed"
    },
    "tags": []
   },
   "outputs": [
    {
     "data": {
      "text/plain": [
       "0     8500000.0\n",
       "1     2800000.0\n",
       "2    28700000.0\n",
       "3     5000000.0\n",
       "4     8500000.0\n",
       "Name: raised_amount_usd, dtype: float64"
      ]
     },
     "execution_count": 51,
     "metadata": {},
     "output_type": "execute_result"
    }
   ],
   "source": [
    "df2['raised_amount_usd'].head()"
   ]
  },
  {
   "cell_type": "code",
   "execution_count": 52,
   "metadata": {
    "execution": {
     "iopub.execute_input": "2020-11-04T03:38:11.941848Z",
     "iopub.status.busy": "2020-11-04T03:38:11.941265Z",
     "iopub.status.idle": "2020-11-04T03:38:12.150250Z",
     "shell.execute_reply": "2020-11-04T03:38:12.150700Z"
    },
    "papermill": {
     "duration": 0.294598,
     "end_time": "2020-11-04T03:38:12.150830",
     "exception": false,
     "start_time": "2020-11-04T03:38:11.856232",
     "status": "completed"
    },
    "tags": []
   },
   "outputs": [
    {
     "data": {
      "image/png": "[encoded data removed]",
      "text/plain": [
       "<Figure size 1080x432 with 1 Axes>"
      ]
     },
     "metadata": {
      "needs_background": "light"
     },
     "output_type": "display_data"
    }
   ],
   "source": [
    "plt.rcParams['figure.figsize'] = 15,6\n",
    "plt.hist(df2['raised_amount_usd'].dropna(), bins=30)\n",
    "plt.ylabel('Count')\n",
    "plt.xlabel('Fnding (usd)')\n",
    "plt.title(\"Distribution of total funding \", fontdict=None, position= [0.48,1.05], size = 'x-large')\n",
    "plt.show()"
   ]
  },
  {
   "cell_type": "code",
   "execution_count": 53,
   "metadata": {
    "execution": {
     "iopub.execute_input": "2020-11-04T03:38:12.320008Z",
     "iopub.status.busy": "2020-11-04T03:38:12.319441Z",
     "iopub.status.idle": "2020-11-04T03:38:12.329107Z",
     "shell.execute_reply": "2020-11-04T03:38:12.329735Z"
    },
    "papermill": {
     "duration": 0.097389,
     "end_time": "2020-11-04T03:38:12.329862",
     "exception": false,
     "start_time": "2020-11-04T03:38:12.232473",
     "status": "completed"
    },
    "tags": []
   },
   "outputs": [],
   "source": [
    "Q1 = df2['raised_amount_usd'].quantile(0.25)\n",
    "Q3 = df2['raised_amount_usd'].quantile(0.75)\n",
    "IQR = Q3 - Q1\n",
    "\n",
    "lower_bound = (Q1 - 1.5 * IQR)\n",
    "upper_bound = (Q3 + 1.5 * IQR)"
   ]
  },
  {
   "cell_type": "code",
   "execution_count": 54,
   "metadata": {
    "execution": {
     "iopub.execute_input": "2020-11-04T03:38:12.503623Z",
     "iopub.status.busy": "2020-11-04T03:38:12.502682Z",
     "iopub.status.idle": "2020-11-04T03:38:12.523371Z",
     "shell.execute_reply": "2020-11-04T03:38:12.522833Z"
    },
    "papermill": {
     "duration": 0.110127,
     "end_time": "2020-11-04T03:38:12.523482",
     "exception": false,
     "start_time": "2020-11-04T03:38:12.413355",
     "status": "completed"
    },
    "tags": []
   },
   "outputs": [],
   "source": [
    "without_outlier = df2[(df2['raised_amount_usd'] > lower_bound ) & (df2['funding_total_usd'] < upper_bound)]"
   ]
  },
  {
   "cell_type": "code",
   "execution_count": 55,
   "metadata": {
    "execution": {
     "iopub.execute_input": "2020-11-04T03:38:12.698361Z",
     "iopub.status.busy": "2020-11-04T03:38:12.697380Z",
     "iopub.status.idle": "2020-11-04T03:38:12.898488Z",
     "shell.execute_reply": "2020-11-04T03:38:12.898958Z"
    },
    "papermill": {
     "duration": 0.291091,
     "end_time": "2020-11-04T03:38:12.899087",
     "exception": false,
     "start_time": "2020-11-04T03:38:12.607996",
     "status": "completed"
    },
    "tags": []
   },
   "outputs": [
    {
     "data": {
      "image/png": "[encoded data removed]",
      "text/plain": [
       "<Figure size 1080x432 with 1 Axes>"
      ]
     },
     "metadata": {
      "needs_background": "light"
     },
     "output_type": "display_data"
    }
   ],
   "source": [
    "plt.rcParams['figure.figsize'] = 15,6\n",
    "plt.hist(without_outlier['raised_amount_usd'].dropna(), bins=30,color = 'paleturquoise' )\n",
    "\n",
    "plt.ylabel('Count')\n",
    "plt.xlabel('Funding (usd)')\n",
    "plt.title(\"Distribution of total funding \", fontdict=None, position= [0.48,1.05], size = 'x-large')\n",
    "plt.show()"
   ]
  },
  {
   "cell_type": "code",
   "execution_count": 56,
   "metadata": {
    "execution": {
     "iopub.execute_input": "2020-11-04T03:38:13.303883Z",
     "iopub.status.busy": "2020-11-04T03:38:13.097351Z",
     "iopub.status.idle": "2020-11-04T03:38:13.324243Z",
     "shell.execute_reply": "2020-11-04T03:38:13.324775Z"
    },
    "papermill": {
     "duration": 0.314669,
     "end_time": "2020-11-04T03:38:13.324913",
     "exception": false,
     "start_time": "2020-11-04T03:38:13.010244",
     "status": "completed"
    },
    "tags": []
   },
   "outputs": [
    {
     "name": "stdout",
     "output_type": "stream",
     "text": [
      "<class 'pandas.core.frame.DataFrame'>\n",
      "Int64Index: 162966 entries, 0 to 223894\n",
      "Data columns (total 20 columns):\n",
      " #   Column              Non-Null Count   Dtype  \n",
      "---  ------              --------------   -----  \n",
      " 0   id                  162966 non-null  int64  \n",
      " 1   funding_round_id    162966 non-null  int64  \n",
      " 2   funded_object_id    162966 non-null  object \n",
      " 3   investor_object_id  162966 non-null  object \n",
      " 4   entity_type         162966 non-null  object \n",
      " 5   name                162966 non-null  object \n",
      " 6   permalink           162966 non-null  object \n",
      " 7   category_code       162966 non-null  object \n",
      " 8   status              162966 non-null  object \n",
      " 9   founded_at          162966 non-null  object \n",
      " 10  description         162966 non-null  object \n",
      " 11  country_code        162966 non-null  object \n",
      " 12  first_funding_at    162966 non-null  object \n",
      " 13  last_funding_at     162966 non-null  object \n",
      " 14  funding_rounds      162966 non-null  int64  \n",
      " 15  funding_total_usd   162966 non-null  float64\n",
      " 16  milestones          162966 non-null  int64  \n",
      " 17  funded_at           162966 non-null  object \n",
      " 18  funding_round_type  162966 non-null  object \n",
      " 19  raised_amount_usd   162966 non-null  float64\n",
      "dtypes: float64(2), int64(4), object(14)\n",
      "memory usage: 26.1+ MB\n"
     ]
    }
   ],
   "source": [
    "df2.info()"
   ]
  },
  {
   "cell_type": "code",
   "execution_count": 57,
   "metadata": {
    "execution": {
     "iopub.execute_input": "2020-11-04T03:38:13.546951Z",
     "iopub.status.busy": "2020-11-04T03:38:13.545873Z",
     "iopub.status.idle": "2020-11-04T03:38:13.550272Z",
     "shell.execute_reply": "2020-11-04T03:38:13.550754Z"
    },
    "papermill": {
     "duration": 0.121934,
     "end_time": "2020-11-04T03:38:13.550880",
     "exception": false,
     "start_time": "2020-11-04T03:38:13.428946",
     "status": "completed"
    },
    "tags": []
   },
   "outputs": [
    {
     "data": {
      "text/html": [
       "<div>\n",
       "<style scoped>\n",
       "    .dataframe tbody tr th:only-of-type {\n",
       "        vertical-align: middle;\n",
       "    }\n",
       "\n",
       "    .dataframe tbody tr th {\n",
       "        vertical-align: top;\n",
       "    }\n",
       "\n",
       "    .dataframe thead th {\n",
       "        text-align: right;\n",
       "    }\n",
       "</style>\n",
       "<table border=\"1\" class=\"dataframe\">\n",
       "  <thead>\n",
       "    <tr style=\"text-align: right;\">\n",
       "      <th></th>\n",
       "      <th>id</th>\n",
       "      <th>funding_round_id</th>\n",
       "      <th>funded_object_id</th>\n",
       "      <th>investor_object_id</th>\n",
       "      <th>entity_type</th>\n",
       "      <th>name</th>\n",
       "      <th>permalink</th>\n",
       "      <th>category_code</th>\n",
       "      <th>status</th>\n",
       "      <th>founded_at</th>\n",
       "      <th>description</th>\n",
       "      <th>country_code</th>\n",
       "      <th>first_funding_at</th>\n",
       "      <th>last_funding_at</th>\n",
       "      <th>funding_rounds</th>\n",
       "      <th>funding_total_usd</th>\n",
       "      <th>milestones</th>\n",
       "      <th>funded_at</th>\n",
       "      <th>funding_round_type</th>\n",
       "      <th>raised_amount_usd</th>\n",
       "    </tr>\n",
       "  </thead>\n",
       "  <tbody>\n",
       "    <tr>\n",
       "      <th>0</th>\n",
       "      <td>1</td>\n",
       "      <td>1</td>\n",
       "      <td>c:4</td>\n",
       "      <td>f:1</td>\n",
       "      <td>Company</td>\n",
       "      <td>Digg</td>\n",
       "      <td>/company/digg</td>\n",
       "      <td>news</td>\n",
       "      <td>acquired</td>\n",
       "      <td>2004-10-11</td>\n",
       "      <td>user driven social content website</td>\n",
       "      <td>USA</td>\n",
       "      <td>2005-10-01</td>\n",
       "      <td>2011-07-12</td>\n",
       "      <td>4</td>\n",
       "      <td>45000000.0</td>\n",
       "      <td>8</td>\n",
       "      <td>2006-12-01</td>\n",
       "      <td>series-b</td>\n",
       "      <td>8500000.0</td>\n",
       "    </tr>\n",
       "    <tr>\n",
       "      <th>1</th>\n",
       "      <td>1</td>\n",
       "      <td>1</td>\n",
       "      <td>c:4</td>\n",
       "      <td>f:1</td>\n",
       "      <td>Company</td>\n",
       "      <td>Digg</td>\n",
       "      <td>/company/digg</td>\n",
       "      <td>news</td>\n",
       "      <td>acquired</td>\n",
       "      <td>2004-10-11</td>\n",
       "      <td>user driven social content website</td>\n",
       "      <td>USA</td>\n",
       "      <td>2005-10-01</td>\n",
       "      <td>2011-07-12</td>\n",
       "      <td>4</td>\n",
       "      <td>45000000.0</td>\n",
       "      <td>8</td>\n",
       "      <td>2005-10-01</td>\n",
       "      <td>series-a</td>\n",
       "      <td>2800000.0</td>\n",
       "    </tr>\n",
       "    <tr>\n",
       "      <th>2</th>\n",
       "      <td>1</td>\n",
       "      <td>1</td>\n",
       "      <td>c:4</td>\n",
       "      <td>f:1</td>\n",
       "      <td>Company</td>\n",
       "      <td>Digg</td>\n",
       "      <td>/company/digg</td>\n",
       "      <td>news</td>\n",
       "      <td>acquired</td>\n",
       "      <td>2004-10-11</td>\n",
       "      <td>user driven social content website</td>\n",
       "      <td>USA</td>\n",
       "      <td>2005-10-01</td>\n",
       "      <td>2011-07-12</td>\n",
       "      <td>4</td>\n",
       "      <td>45000000.0</td>\n",
       "      <td>8</td>\n",
       "      <td>2008-09-24</td>\n",
       "      <td>series-c+</td>\n",
       "      <td>28700000.0</td>\n",
       "    </tr>\n",
       "    <tr>\n",
       "      <th>3</th>\n",
       "      <td>1</td>\n",
       "      <td>1</td>\n",
       "      <td>c:4</td>\n",
       "      <td>f:1</td>\n",
       "      <td>Company</td>\n",
       "      <td>Digg</td>\n",
       "      <td>/company/digg</td>\n",
       "      <td>news</td>\n",
       "      <td>acquired</td>\n",
       "      <td>2004-10-11</td>\n",
       "      <td>user driven social content website</td>\n",
       "      <td>USA</td>\n",
       "      <td>2005-10-01</td>\n",
       "      <td>2011-07-12</td>\n",
       "      <td>4</td>\n",
       "      <td>45000000.0</td>\n",
       "      <td>8</td>\n",
       "      <td>2011-07-12</td>\n",
       "      <td>series-c+</td>\n",
       "      <td>5000000.0</td>\n",
       "    </tr>\n",
       "    <tr>\n",
       "      <th>4</th>\n",
       "      <td>2</td>\n",
       "      <td>1</td>\n",
       "      <td>c:4</td>\n",
       "      <td>f:2</td>\n",
       "      <td>Company</td>\n",
       "      <td>Digg</td>\n",
       "      <td>/company/digg</td>\n",
       "      <td>news</td>\n",
       "      <td>acquired</td>\n",
       "      <td>2004-10-11</td>\n",
       "      <td>user driven social content website</td>\n",
       "      <td>USA</td>\n",
       "      <td>2005-10-01</td>\n",
       "      <td>2011-07-12</td>\n",
       "      <td>4</td>\n",
       "      <td>45000000.0</td>\n",
       "      <td>8</td>\n",
       "      <td>2006-12-01</td>\n",
       "      <td>series-b</td>\n",
       "      <td>8500000.0</td>\n",
       "    </tr>\n",
       "  </tbody>\n",
       "</table>\n",
       "</div>"
      ],
      "text/plain": [
       "   id  funding_round_id funded_object_id investor_object_id entity_type  name  \\\n",
       "0   1                 1              c:4                f:1     Company  Digg   \n",
       "1   1                 1              c:4                f:1     Company  Digg   \n",
       "2   1                 1              c:4                f:1     Company  Digg   \n",
       "3   1                 1              c:4                f:1     Company  Digg   \n",
       "4   2                 1              c:4                f:2     Company  Digg   \n",
       "\n",
       "       permalink category_code    status  founded_at  \\\n",
       "0  /company/digg          news  acquired  2004-10-11   \n",
       "1  /company/digg          news  acquired  2004-10-11   \n",
       "2  /company/digg          news  acquired  2004-10-11   \n",
       "3  /company/digg          news  acquired  2004-10-11   \n",
       "4  /company/digg          news  acquired  2004-10-11   \n",
       "\n",
       "                          description country_code first_funding_at  \\\n",
       "0  user driven social content website          USA       2005-10-01   \n",
       "1  user driven social content website          USA       2005-10-01   \n",
       "2  user driven social content website          USA       2005-10-01   \n",
       "3  user driven social content website          USA       2005-10-01   \n",
       "4  user driven social content website          USA       2005-10-01   \n",
       "\n",
       "  last_funding_at  funding_rounds  funding_total_usd  milestones   funded_at  \\\n",
       "0      2011-07-12               4         45000000.0           8  2006-12-01   \n",
       "1      2011-07-12               4         45000000.0           8  2005-10-01   \n",
       "2      2011-07-12               4         45000000.0           8  2008-09-24   \n",
       "3      2011-07-12               4         45000000.0           8  2011-07-12   \n",
       "4      2011-07-12               4         45000000.0           8  2006-12-01   \n",
       "\n",
       "  funding_round_type  raised_amount_usd  \n",
       "0           series-b          8500000.0  \n",
       "1           series-a          2800000.0  \n",
       "2          series-c+         28700000.0  \n",
       "3          series-c+          5000000.0  \n",
       "4           series-b          8500000.0  "
      ]
     },
     "execution_count": 57,
     "metadata": {},
     "output_type": "execute_result"
    }
   ],
   "source": [
    "df2.head()"
   ]
  },
  {
   "cell_type": "code",
   "execution_count": 58,
   "metadata": {
    "execution": {
     "iopub.execute_input": "2020-11-04T03:38:13.765229Z",
     "iopub.status.busy": "2020-11-04T03:38:13.763499Z",
     "iopub.status.idle": "2020-11-04T03:38:13.773723Z",
     "shell.execute_reply": "2020-11-04T03:38:13.774315Z"
    },
    "papermill": {
     "duration": 0.138853,
     "end_time": "2020-11-04T03:38:13.774460",
     "exception": false,
     "start_time": "2020-11-04T03:38:13.635607",
     "status": "completed"
    },
    "tags": []
   },
   "outputs": [
    {
     "data": {
      "text/plain": [
       "Aperto Networks          539\n",
       "Practice Fusion          530\n",
       "Aviir                    476\n",
       "EndoGastric Solutions    462\n",
       "Tesla Motors             374\n",
       "                        ... \n",
       "BioNano Genomics          40\n",
       "Vostu                     40\n",
       "RatePoint                 40\n",
       "Redux                     40\n",
       "WhiteHat Security         40\n",
       "Name: name, Length: 1000, dtype: int64"
      ]
     },
     "execution_count": 58,
     "metadata": {},
     "output_type": "execute_result"
    }
   ],
   "source": [
    "df2['name'].value_counts()[:1000]"
   ]
  },
  {
   "cell_type": "code",
   "execution_count": 59,
   "metadata": {
    "execution": {
     "iopub.execute_input": "2020-11-04T03:38:13.990481Z",
     "iopub.status.busy": "2020-11-04T03:38:13.989590Z",
     "iopub.status.idle": "2020-11-04T03:38:14.767881Z",
     "shell.execute_reply": "2020-11-04T03:38:14.768380Z"
    },
    "papermill": {
     "duration": 0.908867,
     "end_time": "2020-11-04T03:38:14.768513",
     "exception": false,
     "start_time": "2020-11-04T03:38:13.859646",
     "status": "completed"
    },
    "tags": []
   },
   "outputs": [
    {
     "data": {
      "image/png": "[encoded data removed]",
      "text/plain": [
       "<Figure size 1080x576 with 1 Axes>"
      ]
     },
     "metadata": {
      "needs_background": "light"
     },
     "output_type": "display_data"
    }
   ],
   "source": [
    "plt.rcParams['figure.figsize'] = 15,8\n",
    "\n",
    "height = df2['name'].value_counts()[:60].tolist()\n",
    "bars =  df2['name'].value_counts()[:60].index.tolist()\n",
    "y_pos = np.arange(len(bars))\n",
    "plt.bar(y_pos, height , width=0.7 ,color= ['c']+['paleturquoise']*14)\n",
    "plt.xticks(y_pos, bars)\n",
    "plt.xticks(rotation=90)\n",
    "plt.title(\"Top 60 Company names\", fontdict=None, position= [0.48,1.05], size = 'x-large')\n",
    "plt.show()"
   ]
  },
  {
   "cell_type": "code",
   "execution_count": 60,
   "metadata": {
    "execution": {
     "iopub.execute_input": "2020-11-04T03:38:14.989047Z",
     "iopub.status.busy": "2020-11-04T03:38:14.987416Z",
     "iopub.status.idle": "2020-11-04T03:38:15.223034Z",
     "shell.execute_reply": "2020-11-04T03:38:15.223536Z"
    },
    "papermill": {
     "duration": 0.366888,
     "end_time": "2020-11-04T03:38:15.223672",
     "exception": false,
     "start_time": "2020-11-04T03:38:14.856784",
     "status": "completed"
    },
    "tags": []
   },
   "outputs": [
    {
     "data": {
      "image/png": "[encoded data removed]",
      "text/plain": [
       "<Figure size 1080x576 with 1 Axes>"
      ]
     },
     "metadata": {
      "needs_background": "light"
     },
     "output_type": "display_data"
    }
   ],
   "source": [
    "plt.rcParams['figure.figsize'] = 15,8\n",
    "\n",
    "height = df2['name'].value_counts()[:15].tolist()\n",
    "bars =  df2['name'].value_counts()[:15].index.tolist()\n",
    "y_pos = np.arange(len(bars))\n",
    "plt.bar(y_pos, height , width=0.7 ,color= ['c']+['paleturquoise']*14)\n",
    "plt.xticks(y_pos, bars)\n",
    "plt.xticks(rotation=90)\n",
    "plt.title(\"Top 15 Company names\", fontdict=None, position= [0.48,1.05], size = 'x-large')\n",
    "plt.show()"
   ]
  },
  {
   "cell_type": "code",
   "execution_count": 61,
   "metadata": {
    "execution": {
     "iopub.execute_input": "2020-11-04T03:38:15.426227Z",
     "iopub.status.busy": "2020-11-04T03:38:15.425453Z",
     "iopub.status.idle": "2020-11-04T03:38:15.469029Z",
     "shell.execute_reply": "2020-11-04T03:38:15.468510Z"
    },
    "papermill": {
     "duration": 0.158649,
     "end_time": "2020-11-04T03:38:15.469131",
     "exception": false,
     "start_time": "2020-11-04T03:38:15.310482",
     "status": "completed"
    },
    "tags": []
   },
   "outputs": [],
   "source": [
    "df2['founded_at'] = pd.to_datetime(df2['founded_at'], errors = 'coerce' )"
   ]
  },
  {
   "cell_type": "code",
   "execution_count": 62,
   "metadata": {
    "execution": {
     "iopub.execute_input": "2020-11-04T03:38:15.651756Z",
     "iopub.status.busy": "2020-11-04T03:38:15.650949Z",
     "iopub.status.idle": "2020-11-04T03:38:15.856089Z",
     "shell.execute_reply": "2020-11-04T03:38:15.856586Z"
    },
    "papermill": {
     "duration": 0.299498,
     "end_time": "2020-11-04T03:38:15.856729",
     "exception": false,
     "start_time": "2020-11-04T03:38:15.557231",
     "status": "completed"
    },
    "tags": []
   },
   "outputs": [
    {
     "data": {
      "image/png": "[encoded data removed]",
      "text/plain": [
       "<Figure size 1080x432 with 1 Axes>"
      ]
     },
     "metadata": {
      "needs_background": "light"
     },
     "output_type": "display_data"
    }
   ],
   "source": [
    "plt.rcParams['figure.figsize'] = 15,6\n",
    "df2['name'].groupby(df2[\"founded_at\"].dt.year).count().plot(kind=\"line\")\n",
    "\n",
    "plt.ylabel('Count')\n",
    "plt.title(\"Founded distribution \", fontdict=None, position= [0.48,1.05], size = 'x-large')\n",
    "plt.show()"
   ]
  },
  {
   "cell_type": "code",
   "execution_count": 63,
   "metadata": {
    "execution": {
     "iopub.execute_input": "2020-11-04T03:38:16.073418Z",
     "iopub.status.busy": "2020-11-04T03:38:16.072585Z",
     "iopub.status.idle": "2020-11-04T03:38:16.122720Z",
     "shell.execute_reply": "2020-11-04T03:38:16.122241Z"
    },
    "papermill": {
     "duration": 0.168635,
     "end_time": "2020-11-04T03:38:16.122826",
     "exception": false,
     "start_time": "2020-11-04T03:38:15.954191",
     "status": "completed"
    },
    "tags": []
   },
   "outputs": [],
   "source": [
    "Facebook_founded_year = df2['founded_at'][df2['name']==\"Facebook\"].dt.year\n",
    "Twitter_founded_year  = df2['founded_at'][df2['name']==\"Twitter\"].dt.year\n",
    "Pinterest_founded_year  = df2['founded_at'][df2['name']==\"Pinterest\"].dt.year"
   ]
  },
  {
   "cell_type": "code",
   "execution_count": 64,
   "metadata": {
    "execution": {
     "iopub.execute_input": "2020-11-04T03:38:16.306366Z",
     "iopub.status.busy": "2020-11-04T03:38:16.305655Z",
     "iopub.status.idle": "2020-11-04T03:38:16.309410Z",
     "shell.execute_reply": "2020-11-04T03:38:16.309849Z"
    },
    "papermill": {
     "duration": 0.098685,
     "end_time": "2020-11-04T03:38:16.309977",
     "exception": false,
     "start_time": "2020-11-04T03:38:16.211292",
     "status": "completed"
    },
    "tags": []
   },
   "outputs": [
    {
     "data": {
      "text/plain": [
       "56     2004\n",
       "57     2004\n",
       "58     2004\n",
       "59     2004\n",
       "60     2004\n",
       "       ... \n",
       "271    2004\n",
       "272    2004\n",
       "273    2004\n",
       "274    2004\n",
       "275    2004\n",
       "Name: founded_at, Length: 220, dtype: int64"
      ]
     },
     "execution_count": 64,
     "metadata": {},
     "output_type": "execute_result"
    }
   ],
   "source": [
    "Facebook_founded_year"
   ]
  },
  {
   "cell_type": "code",
   "execution_count": 65,
   "metadata": {
    "execution": {
     "iopub.execute_input": "2020-11-04T03:38:16.496684Z",
     "iopub.status.busy": "2020-11-04T03:38:16.495878Z",
     "iopub.status.idle": "2020-11-04T03:38:16.499190Z",
     "shell.execute_reply": "2020-11-04T03:38:16.499701Z"
    },
    "papermill": {
     "duration": 0.101195,
     "end_time": "2020-11-04T03:38:16.499819",
     "exception": false,
     "start_time": "2020-11-04T03:38:16.398624",
     "status": "completed"
    },
    "tags": []
   },
   "outputs": [
    {
     "data": {
      "text/plain": [
       "5737    2006\n",
       "5738    2006\n",
       "5739    2006\n",
       "5740    2006\n",
       "5741    2006\n",
       "        ... \n",
       "6004    2006\n",
       "6005    2006\n",
       "6006    2006\n",
       "6007    2006\n",
       "6008    2006\n",
       "Name: founded_at, Length: 272, dtype: int64"
      ]
     },
     "execution_count": 65,
     "metadata": {},
     "output_type": "execute_result"
    }
   ],
   "source": [
    "Twitter_founded_year"
   ]
  },
  {
   "cell_type": "code",
   "execution_count": 66,
   "metadata": {
    "execution": {
     "iopub.execute_input": "2020-11-04T03:38:16.686026Z",
     "iopub.status.busy": "2020-11-04T03:38:16.685263Z",
     "iopub.status.idle": "2020-11-04T03:38:16.689035Z",
     "shell.execute_reply": "2020-11-04T03:38:16.688556Z"
    },
    "papermill": {
     "duration": 0.10016,
     "end_time": "2020-11-04T03:38:16.689143",
     "exception": false,
     "start_time": "2020-11-04T03:38:16.588983",
     "status": "completed"
    },
    "tags": []
   },
   "outputs": [
    {
     "data": {
      "text/plain": [
       "168330    2009\n",
       "168331    2009\n",
       "168332    2009\n",
       "168333    2009\n",
       "168334    2009\n",
       "          ... \n",
       "168523    2009\n",
       "168524    2009\n",
       "168525    2009\n",
       "168526    2009\n",
       "168527    2009\n",
       "Name: founded_at, Length: 198, dtype: int64"
      ]
     },
     "execution_count": 66,
     "metadata": {},
     "output_type": "execute_result"
    }
   ],
   "source": [
    "Pinterest_founded_year"
   ]
  },
  {
   "cell_type": "markdown",
   "metadata": {
    "papermill": {
     "duration": 0.089623,
     "end_time": "2020-11-04T03:38:16.868264",
     "exception": false,
     "start_time": "2020-11-04T03:38:16.778641",
     "status": "completed"
    },
    "tags": []
   },
   "source": [
    " **Country Code**"
   ]
  },
  {
   "cell_type": "code",
   "execution_count": 67,
   "metadata": {
    "execution": {
     "iopub.execute_input": "2020-11-04T03:38:17.062860Z",
     "iopub.status.busy": "2020-11-04T03:38:17.061928Z",
     "iopub.status.idle": "2020-11-04T03:38:17.068365Z",
     "shell.execute_reply": "2020-11-04T03:38:17.068841Z"
    },
    "papermill": {
     "duration": 0.111483,
     "end_time": "2020-11-04T03:38:17.068956",
     "exception": false,
     "start_time": "2020-11-04T03:38:16.957473",
     "status": "completed"
    },
    "tags": []
   },
   "outputs": [
    {
     "data": {
      "text/plain": [
       "94"
      ]
     },
     "execution_count": 67,
     "metadata": {},
     "output_type": "execute_result"
    }
   ],
   "source": [
    "len(df2['country_code'].unique())"
   ]
  },
  {
   "cell_type": "markdown",
   "metadata": {
    "papermill": {
     "duration": 0.090749,
     "end_time": "2020-11-04T03:38:17.249342",
     "exception": false,
     "start_time": "2020-11-04T03:38:17.158593",
     "status": "completed"
    },
    "tags": []
   },
   "source": [
    "We have 94 unique code in the dataset"
   ]
  },
  {
   "cell_type": "code",
   "execution_count": 68,
   "metadata": {
    "execution": {
     "iopub.execute_input": "2020-11-04T03:38:17.471474Z",
     "iopub.status.busy": "2020-11-04T03:38:17.470246Z",
     "iopub.status.idle": "2020-11-04T03:38:17.474011Z",
     "shell.execute_reply": "2020-11-04T03:38:17.474490Z"
    },
    "papermill": {
     "duration": 0.13518,
     "end_time": "2020-11-04T03:38:17.474622",
     "exception": false,
     "start_time": "2020-11-04T03:38:17.339442",
     "status": "completed"
    },
    "tags": []
   },
   "outputs": [
    {
     "data": {
      "text/plain": [
       "USA    134986\n",
       "GBR      6934\n",
       "CAN      3246\n",
       "DEU      2382\n",
       "ISR      2022\n",
       "FRA      1849\n",
       "ESP      1165\n",
       "IND      1085\n",
       "CHN       858\n",
       "IRL       773\n",
       "Name: country_code, dtype: int64"
      ]
     },
     "execution_count": 68,
     "metadata": {},
     "output_type": "execute_result"
    }
   ],
   "source": [
    "df2['country_code'].value_counts()[:10]"
   ]
  },
  {
   "cell_type": "markdown",
   "metadata": {
    "papermill": {
     "duration": 0.090974,
     "end_time": "2020-11-04T03:38:17.657305",
     "exception": false,
     "start_time": "2020-11-04T03:38:17.566331",
     "status": "completed"
    },
    "tags": []
   },
   "source": [
    "Most of the companies came from USA"
   ]
  },
  {
   "cell_type": "code",
   "execution_count": 69,
   "metadata": {
    "execution": {
     "iopub.execute_input": "2020-11-04T03:38:17.848311Z",
     "iopub.status.busy": "2020-11-04T03:38:17.847165Z",
     "iopub.status.idle": "2020-11-04T03:38:17.974138Z",
     "shell.execute_reply": "2020-11-04T03:38:17.973627Z"
    },
    "papermill": {
     "duration": 0.226184,
     "end_time": "2020-11-04T03:38:17.974280",
     "exception": false,
     "start_time": "2020-11-04T03:38:17.748096",
     "status": "completed"
    },
    "tags": []
   },
   "outputs": [],
   "source": [
    "df2['count'] = 1\n",
    "country_market = df2[['count','country_code','category_code']].groupby(['country_code','category_code']).agg({'count': 'sum'})\n",
    "# Change: groupby state_office and divide by sum\n",
    "country_market_pct = country_market.groupby(level=0).apply(lambda x:\n",
    "                                                 100 * x / float(x.sum()))\n",
    "country_market_pct.reset_index(inplace = True)"
   ]
  },
  {
   "cell_type": "code",
   "execution_count": 70,
   "metadata": {
    "execution": {
     "iopub.execute_input": "2020-11-04T03:38:18.163958Z",
     "iopub.status.busy": "2020-11-04T03:38:18.163332Z",
     "iopub.status.idle": "2020-11-04T03:38:18.167282Z",
     "shell.execute_reply": "2020-11-04T03:38:18.166784Z"
    },
    "papermill": {
     "duration": 0.101843,
     "end_time": "2020-11-04T03:38:18.167385",
     "exception": false,
     "start_time": "2020-11-04T03:38:18.065542",
     "status": "completed"
    },
    "tags": []
   },
   "outputs": [],
   "source": [
    "USA_market_pct = country_market_pct[country_market_pct['country_code'] == \"USA\"]\n",
    "USA_market_pct = USA_market_pct.sort_values('count',ascending = False)[0:10]"
   ]
  },
  {
   "cell_type": "code",
   "execution_count": 71,
   "metadata": {
    "execution": {
     "iopub.execute_input": "2020-11-04T03:38:18.366392Z",
     "iopub.status.busy": "2020-11-04T03:38:18.360216Z",
     "iopub.status.idle": "2020-11-04T03:38:18.509720Z",
     "shell.execute_reply": "2020-11-04T03:38:18.509119Z"
    },
    "papermill": {
     "duration": 0.250283,
     "end_time": "2020-11-04T03:38:18.509825",
     "exception": false,
     "start_time": "2020-11-04T03:38:18.259542",
     "status": "completed"
    },
    "tags": []
   },
   "outputs": [
    {
     "data": {
      "image/png": "[encoded data removed]",
      "text/plain": [
       "<Figure size 720x720 with 1 Axes>"
      ]
     },
     "metadata": {},
     "output_type": "display_data"
    },
    {
     "name": "stdout",
     "output_type": "stream",
     "text": [
      "For USA, Most of start up market is about Software & Technology\n"
     ]
    }
   ],
   "source": [
    "## USA\n",
    "plt.rcParams['figure.figsize'] =10,10\n",
    "labels = list(USA_market_pct['category_code'])+['Other...']\n",
    "sizes = list(USA_market_pct['count'])+[100-USA_market_pct['count'].sum()]\n",
    "explode = (0.18, 0.12, 0.09,0,0,0,0,0,0,0,0.01)\n",
    "colors =  ['royalblue','mediumaquamarine','moccasin'] +['oldlace']*8\n",
    "\n",
    "plt.pie(sizes, explode = explode, colors = colors ,labels=labels, autopct='%1.1f%%',\n",
    "        shadow=False, startangle=30)\n",
    "plt.axis('equal')\n",
    "plt.tight_layout()\n",
    "plt.title(\"USA start up market\", fontdict=None, position= [0.48,1.1], size = 'x-large')\n",
    "\n",
    "plt.show()\n",
    "print('For USA, Most of start up market is about Software & Technology')"
   ]
  },
  {
   "cell_type": "markdown",
   "metadata": {
    "papermill": {
     "duration": 0.092878,
     "end_time": "2020-11-04T03:38:18.696906",
     "exception": false,
     "start_time": "2020-11-04T03:38:18.604028",
     "status": "completed"
    },
    "tags": []
   },
   "source": [
    "**Now let me check for my counry Nigeria**"
   ]
  },
  {
   "cell_type": "code",
   "execution_count": 72,
   "metadata": {
    "execution": {
     "iopub.execute_input": "2020-11-04T03:38:18.891851Z",
     "iopub.status.busy": "2020-11-04T03:38:18.890982Z",
     "iopub.status.idle": "2020-11-04T03:38:18.893790Z",
     "shell.execute_reply": "2020-11-04T03:38:18.893317Z"
    },
    "papermill": {
     "duration": 0.102814,
     "end_time": "2020-11-04T03:38:18.893890",
     "exception": false,
     "start_time": "2020-11-04T03:38:18.791076",
     "status": "completed"
    },
    "tags": []
   },
   "outputs": [],
   "source": [
    "NGA_market_pct = country_market_pct[country_market_pct['country_code'] == \"NGA\"]\n",
    "NGA_market_pct = NGA_market_pct.sort_values('count',ascending = False)[0:10]"
   ]
  },
  {
   "cell_type": "code",
   "execution_count": 73,
   "metadata": {
    "execution": {
     "iopub.execute_input": "2020-11-04T03:38:19.104729Z",
     "iopub.status.busy": "2020-11-04T03:38:19.103827Z",
     "iopub.status.idle": "2020-11-04T03:38:19.222790Z",
     "shell.execute_reply": "2020-11-04T03:38:19.222148Z"
    },
    "papermill": {
     "duration": 0.236019,
     "end_time": "2020-11-04T03:38:19.222895",
     "exception": false,
     "start_time": "2020-11-04T03:38:18.986876",
     "status": "completed"
    },
    "tags": []
   },
   "outputs": [
    {
     "data": {
      "image/png": "[encoded data removed]",
      "text/plain": [
       "<Figure size 720x720 with 1 Axes>"
      ]
     },
     "metadata": {},
     "output_type": "display_data"
    },
    {
     "name": "stdout",
     "output_type": "stream",
     "text": [
      "For NGA, Most of start up market is about Social mainly\n"
     ]
    }
   ],
   "source": [
    "plt.rcParams['figure.figsize'] = 10,10\n",
    "labels = list(NGA_market_pct['category_code'])+['Other...']\n",
    "sizes = list(NGA_market_pct['count'])+[100-USA_market_pct['count'].sum()]\n",
    "Nones = (0.18, 0.12, 0.09,0,0,0,0.01)\n",
    "colors =  ['royalblue','violet','gold'] +['oldlace']*8\n",
    "\n",
    "plt.pie(sizes, explode = Nones, colors = colors ,labels=labels, autopct='%1.1f%%',shadow=False, startangle=30)\n",
    "plt.axis('equal')\n",
    "plt.tight_layout()\n",
    "plt.title(\"Nigeria start up market\", fontdict=None, position= [0.48,1.1], size = 'x-large')\n",
    "plt.show()\n",
    "print('For NGA, Most of start up market is about Social mainly')"
   ]
  },
  {
   "cell_type": "markdown",
   "metadata": {
    "papermill": {
     "duration": 0.098007,
     "end_time": "2020-11-04T03:38:19.417103",
     "exception": false,
     "start_time": "2020-11-04T03:38:19.319096",
     "status": "completed"
    },
    "tags": []
   },
   "source": [
    "these two pie charts show how different of interest trend between Nigeria and America "
   ]
  },
  {
   "cell_type": "code",
   "execution_count": 74,
   "metadata": {
    "execution": {
     "iopub.execute_input": "2020-11-04T03:38:19.628791Z",
     "iopub.status.busy": "2020-11-04T03:38:19.627852Z",
     "iopub.status.idle": "2020-11-04T03:38:19.630655Z",
     "shell.execute_reply": "2020-11-04T03:38:19.630172Z"
    },
    "papermill": {
     "duration": 0.115508,
     "end_time": "2020-11-04T03:38:19.630759",
     "exception": false,
     "start_time": "2020-11-04T03:38:19.515251",
     "status": "completed"
    },
    "tags": []
   },
   "outputs": [],
   "source": [
    "def funding_information(data,name):\n",
    "    company = data[data['name'] == name]\n",
    "    print (\"Company : \", name)\n",
    "    print (\"Total Funding : \", company.funding_total_usd.values[0] , \" $\")\n",
    "    print (\"Seed Funding : \", company.seed.values[0] , \" $\")\n",
    "    print (\"Angle Funding :\", company.angel.values[0] , \" $\")\n",
    "    print (\"Grant Funding : \",company.grant.values[0] , \" $\")\n",
    "    print (\"Product Crowd Funding : \",company.product_crowdfunding.values[0] , \" $\")\n",
    "    print (\"Equity Crowd Funding : \",company.equity_crowdfunding.values[0] , \" $\")\n",
    "    print (\"Undisclode Funding : \", company.undisclosed.values[0] , \" $\")\n",
    "    print (\"Convertible Note : \", company.convertible_note.values[0] , \" $\")\n",
    "    print (\"Debt Financing : \", company.debt_financing.values[0] , \" $\")\n",
    "    print (\"Private Equity : \",company.private_equity.values[0] , \" $\")\n",
    "    print (\"PostIPO Equity : \",company.post_ipo_equity.values[0] , \" $\")\n",
    "    print (\"PostIPO Debt : \",company.post_ipo_debt.values[0] , \" $\")\n",
    "    print (\"Secondary Market : \",company.secondary_market.values[0] , \" $\")\n",
    "    print (\"Venture Funding : \",company.venture.values[0] , \" $\")\n",
    "    print (\"Round A funding : \",company.round_A.values[0] , \" $\")\n",
    "    print (\"Round B funding : \",company.round_B.values[0] , \" $\")\n",
    "    print (\"Round C funding : \",company.round_C.values[0] , \" $\")\n",
    "    print (\"Round D funding : \",company.round_D.values[0] , \" $\")\n",
    "    print (\"Round E funding : \",company.round_E.values[0] , \" $\")\n",
    "    print (\"Round F funding : \",company.round_F.values[0] , \" $\")\n",
    "    print (\"Round G funding : \",company.round_G.values[0] , \" $\")\n",
    "    print (\"Round H funding : \",company.round_H.values[0] , \" $\")\n"
   ]
  },
  {
   "cell_type": "markdown",
   "metadata": {
    "papermill": {
     "duration": 0.095591,
     "end_time": "2020-11-04T03:38:19.822685",
     "exception": false,
     "start_time": "2020-11-04T03:38:19.727094",
     "status": "completed"
    },
    "tags": []
   },
   "source": [
    "**Now lets check on Country and Total funding**"
   ]
  }
 ],
 "metadata": {
  "kernelspec": {
   "display_name": "Python 3",
   "language": "python",
   "name": "python3"
  },
  "language_info": {
   "codemirror_mode": {
    "name": "ipython",
    "version": 3
   },
   "file_extension": ".py",
   "mimetype": "text/x-python",
   "name": "python",
   "nbconvert_exporter": "python",
   "pygments_lexer": "ipython3",
   "version": "3.7.6"
  },
  "papermill": {
   "duration": 41.979691,
   "end_time": "2020-11-04T03:38:20.027800",
   "environment_variables": {},
   "exception": null,
   "input_path": "__notebook__.ipynb",
   "output_path": "__notebook__.ipynb",
   "parameters": {},
   "start_time": "2020-11-04T03:37:38.048109",
   "version": "2.1.0"
  }
 },
 "nbformat": 4,
 "nbformat_minor": 4
}
